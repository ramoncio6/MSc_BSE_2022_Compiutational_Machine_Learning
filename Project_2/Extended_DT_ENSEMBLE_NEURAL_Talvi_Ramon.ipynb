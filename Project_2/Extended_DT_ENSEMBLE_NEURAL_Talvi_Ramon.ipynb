{
 "cells": [
  {
   "cell_type": "markdown",
   "metadata": {},
   "source": [
    "# <center><ins>Extended Proejct:</ins></center>\n",
    "# <center><ins> Decision Trees, Random Forest, Ensemble Models & Neural Networks </ins></center>"
   ]
  },
  {
   "cell_type": "markdown",
   "metadata": {},
   "source": [
    "## <ins>Part 1: Set-Up</ins>"
   ]
  },
  {
   "cell_type": "markdown",
   "metadata": {},
   "source": [
    "First of all, we import all the random packages and set a random seed to ensure the code is reproducible. "
   ]
  },
  {
   "cell_type": "code",
   "execution_count": 1,
   "metadata": {},
   "outputs": [
    {
     "ename": "AttributeError",
     "evalue": "module 'numpy' has no attribute 'MachAr'",
     "output_type": "error",
     "traceback": [
      "\u001b[0;31m---------------------------------------------------------------------------\u001b[0m",
      "\u001b[0;31mAttributeError\u001b[0m                            Traceback (most recent call last)",
      "\u001b[0;32m<ipython-input-1-d554c8957ff6>\u001b[0m in \u001b[0;36m<module>\u001b[0;34m\u001b[0m\n\u001b[1;32m     22\u001b[0m \u001b[0;32mfrom\u001b[0m \u001b[0msklearn\u001b[0m\u001b[0;34m.\u001b[0m\u001b[0mneighbors\u001b[0m \u001b[0;32mimport\u001b[0m \u001b[0mKNeighborsClassifier\u001b[0m\u001b[0;34m\u001b[0m\u001b[0;34m\u001b[0m\u001b[0m\n\u001b[1;32m     23\u001b[0m \u001b[0;32mfrom\u001b[0m \u001b[0msklearn\u001b[0m\u001b[0;34m.\u001b[0m\u001b[0mmodel_selection\u001b[0m \u001b[0;32mimport\u001b[0m \u001b[0mGridSearchCV\u001b[0m\u001b[0;34m\u001b[0m\u001b[0;34m\u001b[0m\u001b[0m\n\u001b[0;32m---> 24\u001b[0;31m \u001b[0;32mfrom\u001b[0m \u001b[0mcategory_encoders\u001b[0m \u001b[0;32mimport\u001b[0m \u001b[0mTargetEncoder\u001b[0m\u001b[0;34m\u001b[0m\u001b[0;34m\u001b[0m\u001b[0m\n\u001b[0m\u001b[1;32m     25\u001b[0m \u001b[0;32mimport\u001b[0m \u001b[0mcategory_encoders\u001b[0m \u001b[0;32mas\u001b[0m \u001b[0mce\u001b[0m\u001b[0;34m\u001b[0m\u001b[0;34m\u001b[0m\u001b[0m\n\u001b[1;32m     26\u001b[0m \u001b[0;32mimport\u001b[0m \u001b[0mdateutil\u001b[0m\u001b[0;34m.\u001b[0m\u001b[0mparser\u001b[0m\u001b[0;34m\u001b[0m\u001b[0;34m\u001b[0m\u001b[0m\n",
      "\u001b[0;32m~/opt/anaconda3/lib/python3.8/site-packages/category_encoders/__init__.py\u001b[0m in \u001b[0;36m<module>\u001b[0;34m\u001b[0m\n\u001b[1;32m     23\u001b[0m \u001b[0;32mfrom\u001b[0m \u001b[0mcategory_encoders\u001b[0m\u001b[0;34m.\u001b[0m\u001b[0mjames_stein\u001b[0m \u001b[0;32mimport\u001b[0m \u001b[0mJamesSteinEncoder\u001b[0m\u001b[0;34m\u001b[0m\u001b[0;34m\u001b[0m\u001b[0m\n\u001b[1;32m     24\u001b[0m \u001b[0;32mfrom\u001b[0m \u001b[0mcategory_encoders\u001b[0m\u001b[0;34m.\u001b[0m\u001b[0mcat_boost\u001b[0m \u001b[0;32mimport\u001b[0m \u001b[0mCatBoostEncoder\u001b[0m\u001b[0;34m\u001b[0m\u001b[0;34m\u001b[0m\u001b[0m\n\u001b[0;32m---> 25\u001b[0;31m \u001b[0;32mfrom\u001b[0m \u001b[0mcategory_encoders\u001b[0m\u001b[0;34m.\u001b[0m\u001b[0mglmm\u001b[0m \u001b[0;32mimport\u001b[0m \u001b[0mGLMMEncoder\u001b[0m\u001b[0;34m\u001b[0m\u001b[0;34m\u001b[0m\u001b[0m\n\u001b[0m\u001b[1;32m     26\u001b[0m \u001b[0;32mfrom\u001b[0m \u001b[0mcategory_encoders\u001b[0m\u001b[0;34m.\u001b[0m\u001b[0mquantile_encoder\u001b[0m \u001b[0;32mimport\u001b[0m \u001b[0mQuantileEncoder\u001b[0m\u001b[0;34m,\u001b[0m \u001b[0mSummaryEncoder\u001b[0m\u001b[0;34m\u001b[0m\u001b[0;34m\u001b[0m\u001b[0m\n\u001b[1;32m     27\u001b[0m \u001b[0;34m\u001b[0m\u001b[0m\n",
      "\u001b[0;32m~/opt/anaconda3/lib/python3.8/site-packages/category_encoders/glmm.py\u001b[0m in \u001b[0;36m<module>\u001b[0;34m\u001b[0m\n\u001b[1;32m      7\u001b[0m \u001b[0;32mfrom\u001b[0m \u001b[0mcategory_encoders\u001b[0m\u001b[0;34m.\u001b[0m\u001b[0mordinal\u001b[0m \u001b[0;32mimport\u001b[0m \u001b[0mOrdinalEncoder\u001b[0m\u001b[0;34m\u001b[0m\u001b[0;34m\u001b[0m\u001b[0m\n\u001b[1;32m      8\u001b[0m \u001b[0;32mimport\u001b[0m \u001b[0mcategory_encoders\u001b[0m\u001b[0;34m.\u001b[0m\u001b[0mutils\u001b[0m \u001b[0;32mas\u001b[0m \u001b[0mutil\u001b[0m\u001b[0;34m\u001b[0m\u001b[0;34m\u001b[0m\u001b[0m\n\u001b[0;32m----> 9\u001b[0;31m \u001b[0;32mimport\u001b[0m \u001b[0mstatsmodels\u001b[0m\u001b[0;34m.\u001b[0m\u001b[0mformula\u001b[0m\u001b[0;34m.\u001b[0m\u001b[0mapi\u001b[0m \u001b[0;32mas\u001b[0m \u001b[0msmf\u001b[0m\u001b[0;34m\u001b[0m\u001b[0;34m\u001b[0m\u001b[0m\n\u001b[0m\u001b[1;32m     10\u001b[0m \u001b[0;32mfrom\u001b[0m \u001b[0mstatsmodels\u001b[0m\u001b[0;34m.\u001b[0m\u001b[0mgenmod\u001b[0m\u001b[0;34m.\u001b[0m\u001b[0mbayes_mixed_glm\u001b[0m \u001b[0;32mimport\u001b[0m \u001b[0mBinomialBayesMixedGLM\u001b[0m \u001b[0;32mas\u001b[0m \u001b[0mbgmm\u001b[0m\u001b[0;34m\u001b[0m\u001b[0;34m\u001b[0m\u001b[0m\n\u001b[1;32m     11\u001b[0m \u001b[0;34m\u001b[0m\u001b[0m\n",
      "\u001b[0;32m~/opt/anaconda3/lib/python3.8/site-packages/statsmodels/formula/api.py\u001b[0m in \u001b[0;36m<module>\u001b[0;34m\u001b[0m\n\u001b[0;32m----> 1\u001b[0;31m \u001b[0;32mimport\u001b[0m \u001b[0mstatsmodels\u001b[0m\u001b[0;34m.\u001b[0m\u001b[0mregression\u001b[0m\u001b[0;34m.\u001b[0m\u001b[0mlinear_model\u001b[0m \u001b[0;32mas\u001b[0m \u001b[0mlm_\u001b[0m\u001b[0;34m\u001b[0m\u001b[0;34m\u001b[0m\u001b[0m\n\u001b[0m\u001b[1;32m      2\u001b[0m \u001b[0;32mimport\u001b[0m \u001b[0mstatsmodels\u001b[0m\u001b[0;34m.\u001b[0m\u001b[0mdiscrete\u001b[0m\u001b[0;34m.\u001b[0m\u001b[0mdiscrete_model\u001b[0m \u001b[0;32mas\u001b[0m \u001b[0mdm_\u001b[0m\u001b[0;34m\u001b[0m\u001b[0;34m\u001b[0m\u001b[0m\n\u001b[1;32m      3\u001b[0m \u001b[0;32mimport\u001b[0m \u001b[0mstatsmodels\u001b[0m\u001b[0;34m.\u001b[0m\u001b[0mregression\u001b[0m\u001b[0;34m.\u001b[0m\u001b[0mmixed_linear_model\u001b[0m \u001b[0;32mas\u001b[0m \u001b[0mmlm_\u001b[0m\u001b[0;34m\u001b[0m\u001b[0;34m\u001b[0m\u001b[0m\n\u001b[1;32m      4\u001b[0m \u001b[0;32mimport\u001b[0m \u001b[0mstatsmodels\u001b[0m\u001b[0;34m.\u001b[0m\u001b[0mgenmod\u001b[0m\u001b[0;34m.\u001b[0m\u001b[0mgeneralized_linear_model\u001b[0m \u001b[0;32mas\u001b[0m \u001b[0mglm_\u001b[0m\u001b[0;34m\u001b[0m\u001b[0;34m\u001b[0m\u001b[0m\n\u001b[1;32m      5\u001b[0m \u001b[0;32mimport\u001b[0m \u001b[0mstatsmodels\u001b[0m\u001b[0;34m.\u001b[0m\u001b[0mrobust\u001b[0m\u001b[0;34m.\u001b[0m\u001b[0mrobust_linear_model\u001b[0m \u001b[0;32mas\u001b[0m \u001b[0mroblm_\u001b[0m\u001b[0;34m\u001b[0m\u001b[0;34m\u001b[0m\u001b[0m\n",
      "\u001b[0;32m~/opt/anaconda3/lib/python3.8/site-packages/statsmodels/regression/__init__.py\u001b[0m in \u001b[0;36m<module>\u001b[0;34m\u001b[0m\n\u001b[0;32m----> 1\u001b[0;31m \u001b[0;32mfrom\u001b[0m \u001b[0;34m.\u001b[0m\u001b[0mlinear_model\u001b[0m \u001b[0;32mimport\u001b[0m \u001b[0myule_walker\u001b[0m\u001b[0;34m\u001b[0m\u001b[0;34m\u001b[0m\u001b[0m\n\u001b[0m\u001b[1;32m      2\u001b[0m \u001b[0;34m\u001b[0m\u001b[0m\n\u001b[1;32m      3\u001b[0m \u001b[0;32mfrom\u001b[0m \u001b[0mstatsmodels\u001b[0m\u001b[0;34m.\u001b[0m\u001b[0mtools\u001b[0m\u001b[0;34m.\u001b[0m\u001b[0m_testing\u001b[0m \u001b[0;32mimport\u001b[0m \u001b[0mPytestTester\u001b[0m\u001b[0;34m\u001b[0m\u001b[0;34m\u001b[0m\u001b[0m\n\u001b[1;32m      4\u001b[0m \u001b[0;34m\u001b[0m\u001b[0m\n\u001b[1;32m      5\u001b[0m \u001b[0m__all__\u001b[0m \u001b[0;34m=\u001b[0m \u001b[0;34m[\u001b[0m\u001b[0;34m'yule_walker'\u001b[0m\u001b[0;34m,\u001b[0m \u001b[0;34m'test'\u001b[0m\u001b[0;34m]\u001b[0m\u001b[0;34m\u001b[0m\u001b[0;34m\u001b[0m\u001b[0m\n",
      "\u001b[0;32m~/opt/anaconda3/lib/python3.8/site-packages/statsmodels/regression/linear_model.py\u001b[0m in \u001b[0;36m<module>\u001b[0;34m\u001b[0m\n\u001b[1;32m     44\u001b[0m from statsmodels.tools.decorators import (cache_readonly,\n\u001b[1;32m     45\u001b[0m                                           cache_writable)\n\u001b[0;32m---> 46\u001b[0;31m \u001b[0;32mimport\u001b[0m \u001b[0mstatsmodels\u001b[0m\u001b[0;34m.\u001b[0m\u001b[0mbase\u001b[0m\u001b[0;34m.\u001b[0m\u001b[0mmodel\u001b[0m \u001b[0;32mas\u001b[0m \u001b[0mbase\u001b[0m\u001b[0;34m\u001b[0m\u001b[0;34m\u001b[0m\u001b[0m\n\u001b[0m\u001b[1;32m     47\u001b[0m \u001b[0;32mimport\u001b[0m \u001b[0mstatsmodels\u001b[0m\u001b[0;34m.\u001b[0m\u001b[0mbase\u001b[0m\u001b[0;34m.\u001b[0m\u001b[0mwrapper\u001b[0m \u001b[0;32mas\u001b[0m \u001b[0mwrap\u001b[0m\u001b[0;34m\u001b[0m\u001b[0;34m\u001b[0m\u001b[0m\n\u001b[1;32m     48\u001b[0m \u001b[0;32mfrom\u001b[0m \u001b[0mstatsmodels\u001b[0m\u001b[0;34m.\u001b[0m\u001b[0memplike\u001b[0m\u001b[0;34m.\u001b[0m\u001b[0melregress\u001b[0m \u001b[0;32mimport\u001b[0m \u001b[0m_ELRegOpts\u001b[0m\u001b[0;34m\u001b[0m\u001b[0;34m\u001b[0m\u001b[0m\n",
      "\u001b[0;32m~/opt/anaconda3/lib/python3.8/site-packages/statsmodels/base/model.py\u001b[0m in \u001b[0;36m<module>\u001b[0;34m\u001b[0m\n\u001b[1;32m     14\u001b[0m                                           cached_value, cached_data)\n\u001b[1;32m     15\u001b[0m \u001b[0;32mimport\u001b[0m \u001b[0mstatsmodels\u001b[0m\u001b[0;34m.\u001b[0m\u001b[0mbase\u001b[0m\u001b[0;34m.\u001b[0m\u001b[0mwrapper\u001b[0m \u001b[0;32mas\u001b[0m \u001b[0mwrap\u001b[0m\u001b[0;34m\u001b[0m\u001b[0;34m\u001b[0m\u001b[0m\n\u001b[0;32m---> 16\u001b[0;31m \u001b[0;32mfrom\u001b[0m \u001b[0mstatsmodels\u001b[0m\u001b[0;34m.\u001b[0m\u001b[0mtools\u001b[0m\u001b[0;34m.\u001b[0m\u001b[0mnumdiff\u001b[0m \u001b[0;32mimport\u001b[0m \u001b[0mapprox_fprime\u001b[0m\u001b[0;34m\u001b[0m\u001b[0;34m\u001b[0m\u001b[0m\n\u001b[0m\u001b[1;32m     17\u001b[0m \u001b[0;32mfrom\u001b[0m \u001b[0mstatsmodels\u001b[0m\u001b[0;34m.\u001b[0m\u001b[0mtools\u001b[0m\u001b[0;34m.\u001b[0m\u001b[0msm_exceptions\u001b[0m \u001b[0;32mimport\u001b[0m \u001b[0mValueWarning\u001b[0m\u001b[0;34m,\u001b[0m\u001b[0;31m \u001b[0m\u001b[0;31m\\\u001b[0m\u001b[0;34m\u001b[0m\u001b[0;34m\u001b[0m\u001b[0m\n\u001b[1;32m     18\u001b[0m     \u001b[0mHessianInversionWarning\u001b[0m\u001b[0;34m\u001b[0m\u001b[0;34m\u001b[0m\u001b[0m\n",
      "\u001b[0;32m~/opt/anaconda3/lib/python3.8/site-packages/statsmodels/tools/numdiff.py\u001b[0m in \u001b[0;36m<module>\u001b[0;34m\u001b[0m\n\u001b[1;32m     49\u001b[0m \u001b[0;34m\u001b[0m\u001b[0m\n\u001b[1;32m     50\u001b[0m \u001b[0;31m# NOTE: we only do double precision internally so far\u001b[0m\u001b[0;34m\u001b[0m\u001b[0;34m\u001b[0m\u001b[0;34m\u001b[0m\u001b[0m\n\u001b[0;32m---> 51\u001b[0;31m \u001b[0mEPS\u001b[0m \u001b[0;34m=\u001b[0m \u001b[0mnp\u001b[0m\u001b[0;34m.\u001b[0m\u001b[0mMachAr\u001b[0m\u001b[0;34m(\u001b[0m\u001b[0;34m)\u001b[0m\u001b[0;34m.\u001b[0m\u001b[0meps\u001b[0m\u001b[0;34m\u001b[0m\u001b[0;34m\u001b[0m\u001b[0m\n\u001b[0m\u001b[1;32m     52\u001b[0m \u001b[0;34m\u001b[0m\u001b[0m\n\u001b[1;32m     53\u001b[0m _hessian_docs = \"\"\"\n",
      "\u001b[0;32m~/opt/anaconda3/lib/python3.8/site-packages/numpy/__init__.py\u001b[0m in \u001b[0;36m__getattr__\u001b[0;34m(attr)\u001b[0m\n\u001b[1;32m    282\u001b[0m             \u001b[0;32mreturn\u001b[0m \u001b[0mTester\u001b[0m\u001b[0;34m\u001b[0m\u001b[0;34m\u001b[0m\u001b[0m\n\u001b[1;32m    283\u001b[0m \u001b[0;34m\u001b[0m\u001b[0m\n\u001b[0;32m--> 284\u001b[0;31m         raise AttributeError(\"module {!r} has no attribute \"\n\u001b[0m\u001b[1;32m    285\u001b[0m                              \"{!r}\".format(__name__, attr))\n\u001b[1;32m    286\u001b[0m \u001b[0;34m\u001b[0m\u001b[0m\n",
      "\u001b[0;31mAttributeError\u001b[0m: module 'numpy' has no attribute 'MachAr'"
     ]
    }
   ],
   "source": [
    "# Import all necessary packages\n",
    "import os,sys,inspect\n",
    "from tkinter import Image\n",
    "\n",
    "import matplotlib\n",
    "import pandas as pd\n",
    "import seaborn as sns\n",
    "import numpy as np\n",
    "import sklearn\n",
    "from math import floor, ceil\n",
    "import matplotlib.pyplot as plt\n",
    "\n",
    "from numpy import mean, std\n",
    "from sklearn.impute import SimpleImputer\n",
    "from sklearn import preprocessing\n",
    "from sklearn.svm import SVC\n",
    "from sklearn.model_selection import GridSearchCV, RepeatedKFold\n",
    "from sklearn.compose import ColumnTransformer\n",
    "from sklearn.preprocessing import StandardScaler, OneHotEncoder\n",
    "from sklearn.compose import make_column_transformer\n",
    "from dfmapper import DataFrameMapper\n",
    "from sklearn.neighbors import KNeighborsClassifier\n",
    "from sklearn.model_selection import GridSearchCV\n",
    "from category_encoders import TargetEncoder\n",
    "import category_encoders as ce\n",
    "import dateutil.parser\n",
    "from sklearn.impute import KNNImputer\n",
    "from sklearn.model_selection import cross_val_score\n",
    "from sklearn.model_selection import RepeatedStratifiedKFold\n",
    "from sklearn.pipeline import Pipeline\n",
    "from sklearn.svm import LinearSVC\n",
    "from sklearn.datasets import load_iris\n",
    "from sklearn.feature_selection import SelectFromModel\n",
    "import seaborn as sn\n",
    "from sklearn.metrics import roc_auc_score, roc_curve, auc, confusion_matrix\n",
    "from sklearn.tree import DecisionTreeClassifier\n",
    "from sklearn.metrics import accuracy_score\n",
    "from sklearn.tree import plot_tree\n",
    "from IPython.display import Image\n",
    "from sklearn.model_selection import train_test_split\n",
    "from sklearn.metrics import roc_curve, roc_auc_score\n",
    "from sklearn.metrics import make_scorer\n",
    "from sklearn.metrics import r2_score, mean_squared_error, make_scorer\n",
    "from sklearn.metrics import accuracy_score\n",
    "from sklearn.model_selection import RepeatedKFold\n",
    "from sklearn.tree import DecisionTreeRegressor\n",
    "from sklearn.metrics import mean_squared_error\n",
    "from sklearn.metrics import mean_absolute_error\n",
    "from sklearn.metrics import r2_score\n",
    "from sklearn.model_selection import ShuffleSplit\n",
    "from sklearn.ensemble import RandomForestRegressor, ExtraTreesClassifier\n",
    "from sklearn.model_selection import cross_val_score\n",
    "from sklearn.model_selection import RandomizedSearchCV\n",
    "from sklearn.ensemble import AdaBoostRegressor\n",
    "from sklearn.ensemble import GradientBoostingRegressor\n",
    "from sklearn.impute import KNNImputer\n",
    "from sklearn.neighbors import KNeighborsRegressor\n",
    "from sklearn.neighbors import KNeighborsClassifier\n",
    "from sklearn.preprocessing import OneHotEncoder\n",
    "import category_encoders as ce\n",
    "from sklearn.preprocessing import StandardScaler\n",
    "from sklearn.preprocessing import RobustScaler\n",
    "from sklearn.model_selection import GridSearchCV\n",
    "from sklearn.pipeline import make_pipeline, Pipeline\n",
    "from sklearn.compose import ColumnTransformer\n",
    "from sklearn import set_config\n",
    "from sklearn.neighbors import KNeighborsClassifier\n",
    "from category_encoders import TargetEncoder\n",
    "import lime\n",
    "import lime.lime_tabular\n",
    "from lime.lime_tabular import LimeTabularExplainer\n",
    "import keras\n",
    "import tensorflow\n",
    "from tensorflow.keras.models import Sequential\n",
    "from tensorflow.keras.layers import Dense\n",
    "from tensorflow.keras.wrappers.scikit_learn import KerasRegressor\n",
    "\n",
    "\n",
    "\n",
    "# Set random seed\n",
    "np.random.seed(3123)"
   ]
  },
  {
   "cell_type": "markdown",
   "metadata": {},
   "source": [
    "The next task is to load our data. This includes: the 'mimic_train.csv' file with the train set -covariates and target variable included; the 'mimic_test_death.csv' file that provides the test set covariates; finally, we load the file 'mimic_diagnoses.csv' that includes the metadata. After the load, we represent the imported data in data frames."
   ]
  },
  {
   "cell_type": "code",
   "execution_count": 2,
   "metadata": {},
   "outputs": [],
   "source": [
    "# Load Data and represent csv as dataframe\n",
    "data = pd.read_csv(\"/Users/Ramon/Documents/Estudio/BSE/Term_1/Computational_Machine_Learning/Tests/Test_2/mimic_train.csv\")\n",
    "data = pd.DataFrame(data)\n",
    "data.nunique()\n",
    "\n",
    "X_test0 = pd.read_csv(\"//Users/Ramon/Documents/Estudio/BSE/Term_1/Computational_Machine_Learning/Tests/Test_2/mimic_test_death.csv\")\n",
    "X_test0 = pd.DataFrame(X_test0)\n",
    "\n",
    "X_metadata = pd.read_csv(\"//Users/Ramon/Documents/Estudio/BSE/Term_1/Computational_Machine_Learning/Tests/Test_2/MIMIC_diagnoses.csv\")"
   ]
  },
  {
   "cell_type": "markdown",
   "metadata": {},
   "source": [
    "A brief exploration of our datasets is performed to gain a preliminary intuition of our variables. "
   ]
  },
  {
   "cell_type": "code",
   "execution_count": 3,
   "metadata": {},
   "outputs": [
    {
     "name": "stdout",
     "output_type": "stream",
     "text": [
      "(20885, 41)\n",
      "(5221, 39)\n",
      "Index(['HOSPITAL_EXPIRE_FLAG', 'subject_id', 'hadm_id', 'icustay_id',\n",
      "       'HeartRate_Min', 'HeartRate_Max', 'HeartRate_Mean', 'SysBP_Min',\n",
      "       'SysBP_Max', 'SysBP_Mean', 'DiasBP_Min', 'DiasBP_Max', 'DiasBP_Mean',\n",
      "       'MeanBP_Min', 'MeanBP_Max', 'MeanBP_Mean', 'RespRate_Min',\n",
      "       'RespRate_Max', 'RespRate_Mean', 'TempC_Min', 'TempC_Max', 'TempC_Mean',\n",
      "       'SpO2_Min', 'SpO2_Max', 'SpO2_Mean', 'Glucose_Min', 'Glucose_Max',\n",
      "       'Glucose_Mean', 'GENDER', 'DOB', 'ADMITTIME', 'Diff', 'ADMISSION_TYPE',\n",
      "       'INSURANCE', 'RELIGION', 'MARITAL_STATUS', 'ETHNICITY', 'DIAGNOSIS',\n",
      "       'ICD9_diagnosis', 'FIRST_CAREUNIT', 'LOS'],\n",
      "      dtype='object')\n",
      "1.1244    6\n",
      "1.0845    6\n",
      "0.8418    6\n",
      "1.1540    5\n",
      "0.9278    5\n",
      "         ..\n",
      "1.7459    1\n",
      "5.2682    1\n",
      "1.0348    1\n",
      "1.3858    1\n",
      "5.8260    1\n",
      "Name: LOS, Length: 16891, dtype: int64\n"
     ]
    }
   ],
   "source": [
    "#Exploring Data Sets\n",
    "print(data.shape)\n",
    "print(X_test0.shape)\n",
    "print(data.columns)\n",
    "print(data[\"LOS\"].value_counts())\n",
    "\n",
    "# Save incustay id to use as index \n",
    "icustay_id=X_test0[\"icustay_id\"]\n",
    "icustay_id = pd.DataFrame(icustay_id,columns=['icustay_id'])"
   ]
  },
  {
   "cell_type": "markdown",
   "metadata": {},
   "source": [
    "## <ins>Part 2: Pre-Processing</ins>"
   ]
  },
  {
   "cell_type": "markdown",
   "metadata": {},
   "source": [
    "### 2.1) Analyzing columns with lots of NA"
   ]
  },
  {
   "cell_type": "markdown",
   "metadata": {},
   "source": [
    "A preliminary treatment of missing values involves dropping those columns that have 15% or more missing values as the information cost associated to imputing them may outweight their explicative power. "
   ]
  },
  {
   "cell_type": "code",
   "execution_count": 4,
   "metadata": {},
   "outputs": [],
   "source": [
    "# Check features that have a'lot of missing values\n",
    "data.isna().sum()\n",
    "\n",
    "# Percentage of null in every column\n",
    "null_percentage = data.isnull().sum()/data.shape[0]*100\n",
    "\n",
    "# Drop columns having more than 15% null\n",
    "col_to_drop = null_percentage[null_percentage>15].keys()\n",
    "data1 = data.drop(col_to_drop, axis=1)\n",
    "\n",
    "# Update test set with columns dropped in training set\n",
    "X_test1 = X_test0.drop(col_to_drop,axis=1)"
   ]
  },
  {
   "cell_type": "markdown",
   "metadata": {},
   "source": [
    "As no columns have more that 15% of missing values, the X training set wasn't affected. Concomitantly, no variables were dropped in the test set."
   ]
  },
  {
   "cell_type": "markdown",
   "metadata": {},
   "source": [
    "### 2.2) New features"
   ]
  },
  {
   "cell_type": "markdown",
   "metadata": {},
   "source": [
    "#### A) Age Variable"
   ]
  },
  {
   "cell_type": "markdown",
   "metadata": {},
   "source": [
    "Despite the age of each patient is not explicitely present in the dataset, it may be infered. We have the admision time and the date of birth of almost every patient. Therefore, by performing a simple subtraction we can obtain the estimated age of most of the patients. "
   ]
  },
  {
   "cell_type": "code",
   "execution_count": 5,
   "metadata": {},
   "outputs": [
    {
     "data": {
      "image/png": "[encoded data removed]",
      "text/plain": [
       "<Figure size 432x288 with 1 Axes>"
      ]
     },
     "metadata": {
      "needs_background": "light"
     },
     "output_type": "display_data"
    }
   ],
   "source": [
    "# Select appropiate columns from the training set to find date difference\n",
    "data_age = data1[['DOB', 'ADMITTIME']]\n",
    "\n",
    "# We convert the relevant columns to standard date time represent them in a dataframe \n",
    "data_age_dob= pd.to_datetime(data_age['DOB'])\n",
    "data_age_adm= pd.to_datetime(data_age['ADMITTIME'])\n",
    "data_age_dob = pd.DataFrame(data_age_dob)\n",
    "data_age_adm = pd.DataFrame(data_age_adm)\n",
    "\n",
    "# Extract the year of each of the relevant columns\n",
    "data_age_dob['Age'] = pd.DatetimeIndex(data_age_dob.iloc[:,0]).year\n",
    "data_age_adm['Age'] = pd.DatetimeIndex(data_age_adm.iloc[:,0]).year\n",
    "\n",
    "# Perform the subtraction to find the age and load it into a dataframe\n",
    "data_diff = data_age_adm['Age']-data_age_dob['Age']\n",
    "data_diff=pd.DataFrame(data_diff )\n",
    "\n",
    "# Represent the Age in a histogram\n",
    "plt.xlabel(\"Age\", fontsize=16)\n",
    "plt.ylabel(\"Frequency\", fontsize=16)\n",
    "plt.hist(data_diff,bins=100,range=[0, 350],label='AGE')\n",
    "plt.show()"
   ]
  },
  {
   "cell_type": "markdown",
   "metadata": {},
   "source": [
    "As we can witness from the histogram, there are some values above 300 that are not plausible. After some online investigation we discovered that \"age for patients older than eighty-nine is masked as 300 in MIMIC- III for privacy reasons\". Therefore, we firstly found the difference between the implausible ages and 89 and secondly subtracted to each implausible value the obtained difference in the preceeding step. The result is a sensible histogram for age distribution. "
   ]
  },
  {
   "cell_type": "code",
   "execution_count": 6,
   "metadata": {},
   "outputs": [
    {
     "data": {
      "image/png": "[encoded data removed]",
      "text/plain": [
       "<Figure size 432x288 with 1 Axes>"
      ]
     },
     "metadata": {
      "needs_background": "light"
     },
     "output_type": "display_data"
    }
   ],
   "source": [
    "# Filter for ages below 100 and obtain the maximum value to certify its 89\n",
    "below_100 = data_diff[data_diff['Age']<100]\n",
    "below_100.max()\n",
    "\n",
    "# Filter for ages above 100 and obtain the min which should be 300 (histogram)\n",
    "above_100 = data_diff[data_diff['Age']>100]\n",
    "above_100.min()\n",
    "\n",
    "# Subtract to each age above 100 the difference between 300 and 89 \n",
    "data_diff['Age'] = np.where(data_diff['Age'] >100 , data_diff['Age'] - (300-89), data_diff['Age'])\n",
    "\n",
    "# plot histogram with appropiate labels to certify a sensible age distribution was obtained\n",
    "plt.xlabel(\"Age\", fontsize=16)\n",
    "plt.ylabel(\"Frequency\", fontsize=16)\n",
    "plt.hist(data_diff,bins=100,range=[0, 350])\n",
    "plt.show()\n",
    "\n",
    "# Merge the new age column in our training set\n",
    "data2= pd.concat([data1,data_diff],axis=1)"
   ]
  },
  {
   "cell_type": "markdown",
   "metadata": {},
   "source": [
    "The analogous procedure was performed in the test set to obtain the corresponding age of each patient. "
   ]
  },
  {
   "cell_type": "code",
   "execution_count": 7,
   "metadata": {},
   "outputs": [
    {
     "data": {
      "image/png": "[encoded data removed]",
      "text/plain": [
       "<Figure size 432x288 with 1 Axes>"
      ]
     },
     "metadata": {
      "needs_background": "light"
     },
     "output_type": "display_data"
    }
   ],
   "source": [
    "# Select appropiate columns from the test set to find date difference\n",
    "data_age1 = X_test1[['DOB', 'ADMITTIME']]\n",
    "\n",
    "# We convert the relevant columns to standard date time and represent them in a dataframe \n",
    "data_age_dob1= pd.to_datetime(data_age1['DOB'])\n",
    "data_age_adm1= pd.to_datetime(data_age1['ADMITTIME'])\n",
    "data_age_dob1 = pd.DataFrame(data_age_dob1)\n",
    "data_age_adm1 = pd.DataFrame(data_age_adm1)\n",
    "\n",
    "# Extract the year of each of the relevant columns\n",
    "data_age_dob1['Age'] = pd.DatetimeIndex(data_age_dob1.iloc[:,0]).year\n",
    "data_age_adm1['Age'] = pd.DatetimeIndex(data_age_adm1.iloc[:,0]).year\n",
    "\n",
    "# Perform the subtraction to find the age and load it into a dataframe\n",
    "data_diff1 = data_age_adm1['Age']-data_age_dob1['Age']\n",
    "data_diff1=pd.DataFrame(data_diff1)\n",
    "\n",
    "# Represent the Age in a histogram\n",
    "plt.xlabel(\"Age\", fontsize=16)\n",
    "plt.ylabel(\"Frequency\", fontsize=16)\n",
    "plt.hist(data_diff1,bins=100)\n",
    "plt.show()"
   ]
  },
  {
   "cell_type": "markdown",
   "metadata": {},
   "source": [
    "Given the same problem we had with age in the training set arises in the test set, we adopt the same strategy to deal with the inconsistencies. As we witness in the new histogram, the age distribution is now adequately represented. "
   ]
  },
  {
   "cell_type": "code",
   "execution_count": 8,
   "metadata": {},
   "outputs": [
    {
     "data": {
      "image/png": "[encoded data removed]",
      "text/plain": [
       "<Figure size 432x288 with 1 Axes>"
      ]
     },
     "metadata": {
      "needs_background": "light"
     },
     "output_type": "display_data"
    }
   ],
   "source": [
    "# Filter for ages below 100 and obtain the maximum value to certify its 89\n",
    "below_100_ = data_diff1[data_diff1['Age']<100]\n",
    "below_100_.max()\n",
    "\n",
    "# Filter for ages above 100 and obtain the min which should be from histogram 300\n",
    "above_100_ = data_diff1[data_diff1['Age']>100]\n",
    "above_100_.min()\n",
    "\n",
    "# Subtract to each age above 100 the difference between the minimum age above 100 and 89\n",
    "data_diff1['Age'] = np.where(data_diff1['Age'] >100 , data_diff1['Age'] - (300-89), data_diff1['Age'])\n",
    "data_diff1.max()\n",
    "\n",
    "# Plot histogram with appropiate labels to certify a sensible age distribution was obtained\n",
    "plt.xlabel(\"Age\", fontsize=16)\n",
    "plt.ylabel(\"Frequency\", fontsize=16)\n",
    "plt.hist(data_diff1,bins=100,range=[0, 350])\n",
    "plt.show()\n",
    "\n",
    "# Merge the new age column in our test set\n",
    "X_test2= pd.concat([X_test1,data_diff1],axis=1)"
   ]
  },
  {
   "cell_type": "markdown",
   "metadata": {},
   "source": [
    "#### B) Combining Religion & Ethnicity"
   ]
  },
  {
   "cell_type": "markdown",
   "metadata": {},
   "source": [
    "These are high cardinality categorical features with few observsations in some categories. We can combine them to reduce the number of dummy variables we have to produce in one-hot enconding to be applied to unordered categorial features. "
   ]
  },
  {
   "cell_type": "code",
   "execution_count": null,
   "metadata": {},
   "outputs": [],
   "source": [
    "# Count values for features per category\n",
    "data2['ETHNICITY'].value_counts()\n",
    "data2['RELIGION'].value_counts()"
   ]
  },
  {
   "cell_type": "markdown",
   "metadata": {},
   "source": [
    "We edit ethnicity on out trianing data."
   ]
  },
  {
   "cell_type": "code",
   "execution_count": 9,
   "metadata": {},
   "outputs": [],
   "source": [
    "# Combing Ethnicity (train set)\n",
    "data2['ETHNICITY'] = data2['ETHNICITY'].replace(['ASIAN', 'ASIAN - CHINESE', 'ASIAN - ASIAN INDIAN', 'ASIAN - VIETNAMESE', 'ASIAN - FILIPINO', 'ASIAN - CAMBODIAN',\n",
    "                                                     'ASIAN - JAPANESE', 'ASIAN - THAI', 'ASIAN - OTHER', 'ASIAN - KOREAN'\n",
    "                                                     ], 'ASIAN')\n",
    "\n",
    "data2['ETHNICITY'] = data2['ETHNICITY'].replace(['HISPANIC 0R LATINO', 'HISPANIC/LATINO - PUERTO RICAN', 'HISPANIC/LATINO - DOMINICAN',\n",
    "                                                     'HISPANIC/LATINO - GUATEMALAN', 'HISPANIC/LATINO - CUBAN', 'HISPANIC/LATINO - SALVADORAN',\n",
    "                                                     'HISPANIC/LATINO - MEXICAN', 'HISPANIC/LATINO - CENTRAL AMERICAN (OTHER)', 'HISPANIC/LATINO - COLOMBIAN',\n",
    "                                                     'HISPANIC/LATINO - HONDURAN', 'SOUTH AMERICAN'\n",
    "                                                     ], 'HISPANIC OR LATINO')\n",
    "\n",
    "data2['ETHNICITY'] = data2['ETHNICITY'].replace(['WHITE', 'WHITE - RUSSIAN', 'WHITE - OTHER EUROPEAN', 'WHITE - EASTERN EUROPEAN',\n",
    "                                                     'WHITE - BRAZILIAN'\n",
    "                                                     ], 'WHITE')\n",
    "\n",
    "data2['ETHNICITY'] = data2['ETHNICITY'].replace(['BLACK/AFRICAN', 'BLACK/AFRICAN AMERICAN', 'BLACK/CAPE VERDEAN', 'BLACK/HAITIAN'\n",
    "                                                     ], 'BLACK')\n",
    "\n",
    "data2['ETHNICITY'] = data2['ETHNICITY'].replace(['UNABLE TO OBTAIN', 'UNKNOWN/NOT SPECIFIED', 'PATIENT DECLINED TO ANSWER'\n",
    "                                                     ], 'UNKNOWN')\n",
    "\n",
    "data2['ETHNICITY'] = data2['ETHNICITY'].replace(['AMERICAN INDIAN/ALASKA NATIVE', 'AMERICAN INDIAN/ALASKA NATIVE FEDERALLY RECOGNIZED TRIBE',\n",
    "                                                     'CARIBBEAN ISLAND', 'MIDDLE EASTERN', 'OTHER', 'PORTUGUESE', 'NATIVE HAWAIIAN OR OTHER PACIFIC ISLANDER',\n",
    "                                                     'MULTI RACE ethnicity'\n",
    "                                                      ], 'OTHER')"
   ]
  },
  {
   "cell_type": "markdown",
   "metadata": {},
   "source": [
    "Do the analogous in the test set."
   ]
  },
  {
   "cell_type": "code",
   "execution_count": 10,
   "metadata": {},
   "outputs": [],
   "source": [
    "# Combing Ethnicity (test set)\n",
    "X_test2['ETHNICITY'] = X_test2['ETHNICITY'].replace(['ASIAN', 'ASIAN - CHINESE', 'ASIAN - ASIAN INDIAN', 'ASIAN - VIETNAMESE', 'ASIAN - FILIPINO', 'ASIAN - CAMBODIAN',\n",
    "                                                     'ASIAN - JAPANESE', 'ASIAN - THAI', 'ASIAN - OTHER', 'ASIAN - KOREAN'\n",
    "                                                     ], 'ASIAN')\n",
    "\n",
    "X_test2['ETHNICITY'] = X_test2['ETHNICITY'].replace(['HISPANIC 0R LATINO', 'HISPANIC/LATINO - PUERTO RICAN', 'HISPANIC/LATINO - DOMINICAN',\n",
    "                                                     'HISPANIC/LATINO - GUATEMALAN', 'HISPANIC/LATINO - CUBAN', 'HISPANIC/LATINO - SALVADORAN',\n",
    "                                                     'HISPANIC/LATINO - MEXICAN', 'HISPANIC/LATINO - CENTRAL AMERICAN (OTHER)', 'HISPANIC/LATINO - COLOMBIAN',\n",
    "                                                     'HISPANIC/LATINO - HONDURAN', 'SOUTH AMERICAN'\n",
    "                                                     ], 'HISPANIC OR LATINO')\n",
    "\n",
    "X_test2['ETHNICITY'] = X_test2['ETHNICITY'].replace(['WHITE', 'WHITE - RUSSIAN', 'WHITE - OTHER EUROPEAN', 'WHITE - EASTERN EUROPEAN',\n",
    "                                                     'WHITE - BRAZILIAN'\n",
    "                                                     ], 'WHITE')\n",
    "\n",
    "X_test2['ETHNICITY'] = X_test2['ETHNICITY'].replace(['BLACK/AFRICAN', 'BLACK/AFRICAN AMERICAN', 'BLACK/CAPE VERDEAN', 'BLACK/HAITIAN'\n",
    "                                                     ], 'BLACK')\n",
    "\n",
    "X_test2['ETHNICITY'] = X_test2['ETHNICITY'].replace(['UNABLE TO OBTAIN', 'UNKNOWN/NOT SPECIFIED', 'PATIENT DECLINED TO ANSWER'\n",
    "                                                     ], 'UNKNOWN')\n",
    "\n",
    "X_test2['ETHNICITY'] = X_test2['ETHNICITY'].replace(['AMERICAN INDIAN/ALASKA NATIVE', 'AMERICAN INDIAN/ALASKA NATIVE FEDERALLY RECOGNIZED TRIBE',\n",
    "                                                     'CARIBBEAN ISLAND', 'MIDDLE EASTERN', 'OTHER', 'PORTUGUESE', 'NATIVE HAWAIIAN OR OTHER PACIFIC ISLANDER',\n",
    "                                                     'MULTI RACE ethnicity'\n",
    "                                                      ], 'OTHER')\n"
   ]
  },
  {
   "cell_type": "markdown",
   "metadata": {},
   "source": [
    "We certify the changes have been implemented. "
   ]
  },
  {
   "cell_type": "code",
   "execution_count": 11,
   "metadata": {},
   "outputs": [
    {
     "data": {
      "text/plain": [
       "WHITE                   3849\n",
       "BLACK                    532\n",
       "UNKNOWN                  352\n",
       "HISPANIC OR LATINO       203\n",
       "ASIAN                    144\n",
       "OTHER                    129\n",
       "MULTI RACE ETHNICITY      12\n",
       "Name: ETHNICITY, dtype: int64"
      ]
     },
     "execution_count": 11,
     "metadata": {},
     "output_type": "execute_result"
    }
   ],
   "source": [
    "# Count values for features per category\n",
    "data2['ETHNICITY'].value_counts()\n",
    "X_test2['ETHNICITY'].value_counts()"
   ]
  },
  {
   "cell_type": "markdown",
   "metadata": {},
   "source": [
    "We preprocess religion on both the train and test set, grouping those with few observations into an \"other\" category. "
   ]
  },
  {
   "cell_type": "code",
   "execution_count": 12,
   "metadata": {},
   "outputs": [],
   "source": [
    "# Combing Religion (train set)\n",
    "\n",
    "religion_other = ['HEBREW', 'UNITARIAN-UNIVERSALIST', 'HINDU', 'GREEK ORTHODOX',\"JEHOVAH'S WITNESS\", \"BUDDHIST\", 'MUSLIM', 'OTHER', 'CHRISTIAN SCIENTIST', 'EPISCOPALIAN', 'ROMANIAN EAST. ORTH', '7TH DAY ADVENTIST']\n",
    "data2['RELIGION'] = data2['RELIGION'].replace(religion_other, 'OTHER')\n",
    "\n",
    "# Combing Religion (test set)\n",
    "\n",
    "X_test2['RELIGION'] = X_test2['RELIGION'].replace(religion_other, 'OTHER')\n"
   ]
  },
  {
   "cell_type": "markdown",
   "metadata": {},
   "source": [
    "We certify changes have been implemented appropiately. "
   ]
  },
  {
   "cell_type": "code",
   "execution_count": 13,
   "metadata": {},
   "outputs": [
    {
     "data": {
      "text/plain": [
       "CATHOLIC             1898\n",
       "NOT SPECIFIED        1361\n",
       "PROTESTANT QUAKER     697\n",
       "JEWISH                446\n",
       "OTHER                 424\n",
       "UNOBTAINABLE          395\n",
       "Name: RELIGION, dtype: int64"
      ]
     },
     "execution_count": 13,
     "metadata": {},
     "output_type": "execute_result"
    }
   ],
   "source": [
    "# Count values for features per category\n",
    "data2['RELIGION'].value_counts()\n",
    "X_test2['RELIGION'].value_counts()"
   ]
  },
  {
   "cell_type": "markdown",
   "metadata": {},
   "source": [
    "#### C) Repeat visits to ICU"
   ]
  },
  {
   "cell_type": "markdown",
   "metadata": {},
   "source": [
    "We are going to take advantage of time series structure train and test"
   ]
  },
  {
   "cell_type": "code",
   "execution_count": 14,
   "metadata": {},
   "outputs": [],
   "source": [
    "# Create new variable in train and test set\n",
    "data2[\"visits_ICU\"] = data2.sort_values(['subject_id', 'ADMITTIME']).groupby([\"subject_id\"]).cumcount() + 1\n",
    "X_test2[\"visits_ICU\"] = X_test2.sort_values(['subject_id', 'ADMITTIME']).groupby([\"subject_id\"]).cumcount() + 1\n"
   ]
  },
  {
   "cell_type": "markdown",
   "metadata": {},
   "source": [
    "Verify new feature:"
   ]
  },
  {
   "cell_type": "code",
   "execution_count": 15,
   "metadata": {},
   "outputs": [],
   "source": [
    "# Explore recent created feature\n",
    "data2[\"visits_ICU\"] = data2.sort_values(['subject_id', 'ADMITTIME']).groupby([\"subject_id\"]).cumcount() + 1\n",
    "X_test2[\"visits_ICU\"] = X_test2.sort_values(['subject_id', 'ADMITTIME']).groupby([\"subject_id\"]).cumcount() + 1\n"
   ]
  },
  {
   "cell_type": "markdown",
   "metadata": {},
   "source": [
    "#### D) Number of comorobilities"
   ]
  },
  {
   "cell_type": "markdown",
   "metadata": {},
   "source": [
    "Another potentially useful information implicitely present in the metadata is the number of co-morbilities. We would like to include this feature as an explanatory variable both on the training set and test set.  "
   ]
  },
  {
   "cell_type": "code",
   "execution_count": 16,
   "metadata": {},
   "outputs": [],
   "source": [
    "# Make sure our metadata column names have been renamed appropiately for compatibility with training set\n",
    "X_metadata = X_metadata.rename(columns={'SUBJECT_ID':'subject_id'})\n",
    "X_metadata = X_metadata.rename(columns={'HADM_ID':'hadm_id'})\n",
    "\n",
    "# Group our metadata by subject_id and hadm_id and count the number of comorbilities indicated by the column SEQ_NUM\n",
    "X_metadata2 = X_metadata.groupby(['subject_id','hadm_id'],as_index=False)['SEQ_NUM'].count()\n",
    "\n",
    "# Merge our newly created variable with training set using subject_id and hadm_id as keys\n",
    "data3 = data2.merge(X_metadata2,how='left',on=['subject_id','hadm_id'])"
   ]
  },
  {
   "cell_type": "markdown",
   "metadata": {},
   "source": [
    "Analogously, we add the newly created explanatory variable to the corresponding patients in the test set, using -as in the trainig set merge- subject_id and hadm_id as keys."
   ]
  },
  {
   "cell_type": "code",
   "execution_count": 18,
   "metadata": {},
   "outputs": [],
   "source": [
    "# Merge test set with metadata to conform the new test set using subject_id and hadm_id as keys\n",
    "X_test3 = X_test2.merge(X_metadata2,how='left',on=['subject_id','hadm_id'])"
   ]
  },
  {
   "cell_type": "markdown",
   "metadata": {},
   "source": [
    "### 2.3) Train Test split"
   ]
  },
  {
   "cell_type": "markdown",
   "metadata": {},
   "source": [
    "Furtermore, we explicitely separate our training set covariates, our training set target variable and our test set covariates. "
   ]
  },
  {
   "cell_type": "code",
   "execution_count": 19,
   "metadata": {},
   "outputs": [],
   "source": [
    "# Select explanatory variables from traing data\n",
    "X_train = data3.drop([\"LOS\"],axis=1)\n",
    "\n",
    "# Select target variable from traing data\n",
    "y_train = data3[[\"LOS\"]]\n",
    "\n",
    "# Load test set covariates in a data frame\n",
    "X_test = pd.DataFrame(X_test3)"
   ]
  },
  {
   "cell_type": "markdown",
   "metadata": {},
   "source": [
    "### 2.4) Handling Missing Values"
   ]
  },
  {
   "cell_type": "markdown",
   "metadata": {},
   "source": [
    "#### A) Outliers"
   ]
  },
  {
   "cell_type": "markdown",
   "metadata": {},
   "source": [
    "First of all, we contemplate the possibility of excluding outliers that are beyond 3 standard deviations from the mean. We only analyze some numerical variables in the training set for potencial outlier exclusion."
   ]
  },
  {
   "cell_type": "code",
   "execution_count": 20,
   "metadata": {},
   "outputs": [],
   "source": [
    "# Define a function to remove outliers from a particular dataframe column\n",
    "def subset_by_iqr(df, column, whisker_width):\n",
    "    \"\"\"Remove outliers from a dataframe by column, including optional\n",
    "       whiskers, removing rows for which the column value are\n",
    "       less than Q1-1.5IQR or greater than Q3+1.5IQR.\n",
    "    Args:\n",
    "        df (`:obj:pd.DataFrame`): A pandas dataframe to subset\n",
    "        column (str): Name of the column to calculate the subset from.\n",
    "        whisker_width (float): Optional, loosen the IQR filter by a\n",
    "                               factor of `whisker_width` * IQR.\n",
    "    Returns:\n",
    "        (`:obj:pd.DataFrame`): Filtered dataframe\n",
    "    \"\"\"\n",
    "    # Calculate Q1, Q2 and IQR\n",
    "    q1 = df[column].quantile(0.25)\n",
    "    q3 = df[column].quantile(0.75)\n",
    "    iqr = q3 - q1\n",
    "    # Apply filter with respect to IQR, including optional whiskers\n",
    "    filter = (df[column] >= q1 - whisker_width*iqr) & (df[column] <= q3 + whisker_width*iqr)\n",
    "    return df.loc[filter]\n",
    "\n",
    "\n",
    "# Exclude outliers that are beyond 3 std from the mean for some numerical variables in training set\n",
    "data_outliers = subset_by_iqr(X_train, column='HeartRate_Min', whisker_width=3)\n",
    "data_outliers = subset_by_iqr(data_outliers, column='HeartRate_Max', whisker_width=3)\n",
    "\n",
    "data_outliers = subset_by_iqr(data_outliers, column='SysBP_Min', whisker_width=3)\n",
    "data_outliers = subset_by_iqr(data_outliers, column='SysBP_Max', whisker_width=3)\n",
    "\n",
    "data_outliers = subset_by_iqr(data_outliers, column='DiasBP_Min', whisker_width=3)\n",
    "data_outliers = subset_by_iqr(data_outliers, column='DiasBP_Max', whisker_width=3)\n",
    "\n",
    "data_outliers = subset_by_iqr(data_outliers, column='MeanBP_Min', whisker_width=3)\n",
    "data_outliers = subset_by_iqr(data_outliers, column='MeanBP_Max', whisker_width=3)\n",
    "\n",
    "data_outliers = subset_by_iqr(data_outliers, column='RespRate_Min', whisker_width=3)\n",
    "data_outliers = subset_by_iqr(data_outliers, column='RespRate_Max', whisker_width=3)\n",
    "\n",
    "data_outliers = subset_by_iqr(data_outliers, column='TempC_Min', whisker_width=3)\n",
    "data_outliers = subset_by_iqr(data_outliers, column='TempC_Max', whisker_width=3)\n",
    "\n",
    "data_outliers = subset_by_iqr(data_outliers, column='SpO2_Min', whisker_width=3)\n",
    "data_outliers = subset_by_iqr(data_outliers, column='SpO2_Max', whisker_width=3)\n",
    "\n",
    "data_outliers = subset_by_iqr(data_outliers, column='Glucose_Min', whisker_width=3)\n",
    "data_outliers = subset_by_iqr(data_outliers, column='Glucose_Max', whisker_width=3)"
   ]
  },
  {
   "cell_type": "markdown",
   "metadata": {},
   "source": [
    "The impact on performance metrics provoked by the exclusion of outliers was assesed for different values of the whisker width. As outlier exclusion didn't have a significant impact on subsequent used performance metrics -it even worsen simulated predictions assesed by cross-validation- we opted to keep rare extreme values in our training set. This may seem sensible as extreme values in one variable may provide some valuable information regarding the lenghth of stay. In short, the evidence suggested it was convenient to keep outliers in our training set."
   ]
  },
  {
   "cell_type": "markdown",
   "metadata": {},
   "source": [
    "#### B) Strucural missing data: marital status"
   ]
  },
  {
   "cell_type": "markdown",
   "metadata": {},
   "source": [
    "We can combine nan values for marital status with the UNKNOWN class. As there is not an unknown class we add a 'missing' class."
   ]
  },
  {
   "cell_type": "code",
   "execution_count": 21,
   "metadata": {},
   "outputs": [],
   "source": [
    "# Classes in feature marital status\n",
    "X_train[\"MARITAL_STATUS\"].unique()\n",
    "\n",
    "# We deal with marital status missing\n",
    "X_train['MARITAL_STATUS'] = X_train['MARITAL_STATUS'].fillna('UNKNOWN (DEFAULT)')\n",
    "X_test['MARITAL_STATUS'] = X_test['MARITAL_STATUS'].fillna('UNKNOWN (DEFAULT)')\n"
   ]
  },
  {
   "cell_type": "markdown",
   "metadata": {},
   "source": [
    "#### C) Foward and Backweard filling with previous visit information"
   ]
  },
  {
   "cell_type": "markdown",
   "metadata": {},
   "source": [
    "We again take advantage of time series data to foward fill and back fill thee patients that come repetedly with the information of their previpous visit."
   ]
  },
  {
   "cell_type": "code",
   "execution_count": 22,
   "metadata": {},
   "outputs": [],
   "source": [
    "# Foward filling train and test set\n",
    "X_trainA = X_train.groupby(['subject_id'], as_index = False).apply(lambda group: group.ffill())\n",
    "X_testA = X_test.groupby(['subject_id'], as_index = False).apply(lambda group: group.ffill())"
   ]
  },
  {
   "cell_type": "markdown",
   "metadata": {},
   "source": [
    "We check missing values train and test"
   ]
  },
  {
   "cell_type": "code",
   "execution_count": 23,
   "metadata": {},
   "outputs": [
    {
     "data": {
      "text/plain": [
       "subject_id          0\n",
       "hadm_id             0\n",
       "icustay_id          0\n",
       "HeartRate_Min     521\n",
       "HeartRate_Max     521\n",
       "HeartRate_Mean    521\n",
       "SysBP_Min         527\n",
       "SysBP_Max         527\n",
       "SysBP_Mean        527\n",
       "DiasBP_Min        528\n",
       "DiasBP_Max        528\n",
       "DiasBP_Mean       528\n",
       "MeanBP_Min        523\n",
       "MeanBP_Max        523\n",
       "MeanBP_Mean       523\n",
       "RespRate_Min      522\n",
       "RespRate_Max      522\n",
       "RespRate_Mean     522\n",
       "TempC_Min         609\n",
       "TempC_Max         609\n",
       "TempC_Mean        609\n",
       "SpO2_Min          526\n",
       "SpO2_Max          526\n",
       "SpO2_Mean         526\n",
       "Glucose_Min        52\n",
       "Glucose_Max        52\n",
       "Glucose_Mean       52\n",
       "GENDER              0\n",
       "DOB                 0\n",
       "ADMITTIME           0\n",
       "Diff                0\n",
       "ADMISSION_TYPE      0\n",
       "INSURANCE           0\n",
       "RELIGION            0\n",
       "MARITAL_STATUS      0\n",
       "ETHNICITY           0\n",
       "DIAGNOSIS           0\n",
       "ICD9_diagnosis      0\n",
       "FIRST_CAREUNIT      0\n",
       "Age                 0\n",
       "visits_ICU          0\n",
       "SEQ_NUM             0\n",
       "dtype: int64"
      ]
     },
     "execution_count": 23,
     "metadata": {},
     "output_type": "execute_result"
    }
   ],
   "source": [
    "# Checking for Nulls - train and test\n",
    "X_trainA.isnull().sum()\n",
    "X_testA.isnull().sum()"
   ]
  },
  {
   "cell_type": "code",
   "execution_count": 24,
   "metadata": {},
   "outputs": [],
   "source": [
    "# Backward filling train and test set\n",
    "X_trainB = X_trainA.groupby(['subject_id'], as_index = False).apply(lambda group: group.bfill())\n",
    "X_testB = X_testA.groupby(['subject_id'], as_index = False).apply(lambda group: group.bfill())"
   ]
  },
  {
   "cell_type": "markdown",
   "metadata": {},
   "source": [
    "check missing values train and test"
   ]
  },
  {
   "cell_type": "code",
   "execution_count": 25,
   "metadata": {},
   "outputs": [
    {
     "data": {
      "text/plain": [
       "subject_id          0\n",
       "hadm_id             0\n",
       "icustay_id          0\n",
       "HeartRate_Min     507\n",
       "HeartRate_Max     507\n",
       "HeartRate_Mean    507\n",
       "SysBP_Min         513\n",
       "SysBP_Max         513\n",
       "SysBP_Mean        513\n",
       "DiasBP_Min        514\n",
       "DiasBP_Max        514\n",
       "DiasBP_Mean       514\n",
       "MeanBP_Min        509\n",
       "MeanBP_Max        509\n",
       "MeanBP_Mean       509\n",
       "RespRate_Min      508\n",
       "RespRate_Max      508\n",
       "RespRate_Mean     508\n",
       "TempC_Min         592\n",
       "TempC_Max         592\n",
       "TempC_Mean        592\n",
       "SpO2_Min          512\n",
       "SpO2_Max          512\n",
       "SpO2_Mean         512\n",
       "Glucose_Min        52\n",
       "Glucose_Max        52\n",
       "Glucose_Mean       52\n",
       "GENDER              0\n",
       "DOB                 0\n",
       "ADMITTIME           0\n",
       "Diff                0\n",
       "ADMISSION_TYPE      0\n",
       "INSURANCE           0\n",
       "RELIGION            0\n",
       "MARITAL_STATUS      0\n",
       "ETHNICITY           0\n",
       "DIAGNOSIS           0\n",
       "ICD9_diagnosis      0\n",
       "FIRST_CAREUNIT      0\n",
       "Age                 0\n",
       "visits_ICU          0\n",
       "SEQ_NUM             0\n",
       "dtype: int64"
      ]
     },
     "execution_count": 25,
     "metadata": {},
     "output_type": "execute_result"
    }
   ],
   "source": [
    "# Checking for Nulls - train and test\n",
    "X_trainB.isnull().sum()\n",
    "X_testB.isnull().sum()"
   ]
  },
  {
   "cell_type": "markdown",
   "metadata": {},
   "source": [
    "#### D) KNN imputation"
   ]
  },
  {
   "cell_type": "markdown",
   "metadata": {},
   "source": [
    "How to impute missing values is one of the most importante tasks in the pre processing of the data. We will use k nearest neighbors through KNNImputer in order to impute missing values of a patient. The strategy is to replace a missing value of a specific feature of a given patient A using the records of the set of patients that resemble the most patient A in other recorded features. In other words, imputing missing values by similarity. We will adopt this approach to fill missing values of the reamining continuous variables."
   ]
  },
  {
   "cell_type": "markdown",
   "metadata": {},
   "source": [
    "The natural question that comes up is how many neighbors or similar patients we should consider to fill our missing values. To determine this we assumed a potential standard Knn model (number of neighbors, weights and algorithm exogenous) and fed it with different possible values of number of neighbors. This procedure will suggest the optimal number of neighbors to use to impute our missing values. Cross validation is used to asses predictive capacity of the model for the different possible neighbors and criteria of optimality is provided by area under the curve (AUC) performance metric. \n",
    "The following pipeline serves this purpose:"
   ]
  },
  {
   "cell_type": "code",
   "execution_count": 26,
   "metadata": {},
   "outputs": [
    {
     "ename": "NameError",
     "evalue": "name 'KNNImputer' is not defined",
     "output_type": "error",
     "traceback": [
      "\u001b[0;31m---------------------------------------------------------------------------\u001b[0m",
      "\u001b[0;31mNameError\u001b[0m                                 Traceback (most recent call last)",
      "\u001b[0;32m<ipython-input-26-392771c24a59>\u001b[0m in \u001b[0;36m<module>\u001b[0;34m\u001b[0m\n\u001b[1;32m      1\u001b[0m \u001b[0;31m# Define the Knn imputer with the number of neighbors to use\u001b[0m\u001b[0;34m\u001b[0m\u001b[0;34m\u001b[0m\u001b[0;34m\u001b[0m\u001b[0m\n\u001b[0;32m----> 2\u001b[0;31m \u001b[0mcont_imputer\u001b[0m \u001b[0;34m=\u001b[0m \u001b[0mKNNImputer\u001b[0m\u001b[0;34m(\u001b[0m\u001b[0mn_neighbors\u001b[0m\u001b[0;34m=\u001b[0m\u001b[0;36m6\u001b[0m\u001b[0;34m)\u001b[0m\u001b[0;34m\u001b[0m\u001b[0;34m\u001b[0m\u001b[0m\n\u001b[0m",
      "\u001b[0;31mNameError\u001b[0m: name 'KNNImputer' is not defined"
     ]
    }
   ],
   "source": [
    "# Define the Knn imputer with the number of neighbors to use\n",
    "cont_imputer = KNNImputer(n_neighbors=6)"
   ]
  },
  {
   "cell_type": "markdown",
   "metadata": {},
   "source": [
    "### 2.5) Encoding & Scaling"
   ]
  },
  {
   "cell_type": "markdown",
   "metadata": {},
   "source": [
    "#### A) Catgorical variables"
   ]
  },
  {
   "cell_type": "markdown",
   "metadata": {},
   "source": [
    "leave one out eccoding for unordered categorical. parse=False prevents OneHotEncoder from outputting a sparse matrix and allowing comptability later down the pipeline"
   ]
  },
  {
   "cell_type": "code",
   "execution_count": null,
   "metadata": {},
   "outputs": [],
   "source": [
    "# Categroical variables unordered\n",
    "cat_encoder = ce.LeaveOneOutEncoder()"
   ]
  },
  {
   "cell_type": "markdown",
   "metadata": {},
   "source": [
    "#### B) Smoothed Target Encoding "
   ]
  },
  {
   "cell_type": "markdown",
   "metadata": {},
   "source": [
    "we target encoded the name of the co-morbilities: recall target encoding involves replacing the “features with a blend of posterior probability of the target given particular categorical value and the prior probability of the target over all the training data\". In simple terms, we replace the categories considering the effect they might have on the target variable. After targeting encoding ICD9_CODE we computed the mean value of ICD9_CODE for each subject_id as a representative measure.\n",
    "Smothing can help deal with cases where very observations had a certain disease."
   ]
  },
  {
   "cell_type": "code",
   "execution_count": null,
   "metadata": {},
   "outputs": [],
   "source": [
    "# targed enconding ICD9\n",
    "icd9_encoder = ce.TargetEncoder()"
   ]
  },
  {
   "cell_type": "markdown",
   "metadata": {},
   "source": [
    "#### C) Scaling"
   ]
  },
  {
   "cell_type": "markdown",
   "metadata": {},
   "source": [
    "I am going to use a RobustScaler for the continious variabes and StandardScalar for the discrete ones"
   ]
  },
  {
   "cell_type": "code",
   "execution_count": null,
   "metadata": {},
   "outputs": [],
   "source": [
    "# scaling continuous and discrete features\n",
    "cont_scaler = StandardScaler()\n",
    "cat_scaler = StandardScaler()"
   ]
  },
  {
   "cell_type": "markdown",
   "metadata": {},
   "source": [
    "### 2.6) Variable Selection"
   ]
  },
  {
   "cell_type": "markdown",
   "metadata": {},
   "source": [
    "The posterior step in our analysis is to select those variables that we anticipate have some incidence on the patients probability of survival and dropping the rest. Recall that adding variables that have no explanatory power whatsover generates noise that erodes the capacity of our model to capture the underlying pattern in the data."
   ]
  },
  {
   "cell_type": "markdown",
   "metadata": {},
   "source": [
    "#### A) Anlyzing linear correlation"
   ]
  },
  {
   "cell_type": "markdown",
   "metadata": {},
   "source": [
    "We first find the correlation betweeen each feature and our target future to explore which variables might be relevant and undergo a process of variable selection."
   ]
  },
  {
   "cell_type": "code",
   "execution_count": null,
   "metadata": {},
   "outputs": [],
   "source": [
    "# Concatenate X train set with y train set to investigate correlations\n",
    "data4 = pd.concat([X_trainB,y_train],axis=1)\n",
    "\n",
    "# Compute the correlation matrix\n",
    "corr = data3.corr()\n",
    "\n",
    "# Represent it in a data frame and select column involving target variable\n",
    "corr = pd.DataFrame(corr[['LOS']])\n",
    "corr\n"
   ]
  },
  {
   "cell_type": "markdown",
   "metadata": {},
   "source": [
    "#### B) Drop a priori irrelevant columns or unavailable infromation when arriving"
   ]
  },
  {
   "cell_type": "markdown",
   "metadata": {},
   "source": [
    "As it is logical, the fact that the patiend dies or survives is not available when the patient arrives, hence we cannot use it as a predictor in our model. "
   ]
  },
  {
   "cell_type": "code",
   "execution_count": null,
   "metadata": {},
   "outputs": [],
   "source": [
    "X_trainB.columns\n",
    "X_train_HEF = X_train[['HOSPITAL_EXPIRE_FLAG']]\n",
    "X_trainC= X_trainB.drop(['subject_id','hadm_id','icustay_id','DOB','ADMITTIME','Diff','HeartRate_Mean',\n",
    "                         'SysBP_Mean','DiasBP_Mean','MeanBP_Mean','RespRate_Mean','TempC_Mean','SpO2_Mean',\n",
    "                          'Glucose_Mean','HOSPITAL_EXPIRE_FLAG'],axis=1)"
   ]
  },
  {
   "cell_type": "markdown",
   "metadata": {},
   "source": [
    "Furthermore, those columns that serve the purpose of identifying the patient (subject_id & hadm_id) will have no impact whatsoever in our target variable. We also drop date of birth (DOB) and admission time (ADMITTIME) that were already used to estimate the age and by themselves add no explanatory power."
   ]
  },
  {
   "cell_type": "markdown",
   "metadata": {},
   "source": [
    "The mean of each of the medical categories (heart rate, sys, dias, etc) measured were dropped: not only they are composed of variables already present in the data (max and min) that precisely capture the presence of lower or upper deviations, but we conjecture that it is the presence of extreme values in a given category what impacts our target variable. In other words, the mean value of each medical category adds no relevant information. This is certified by our correlation column given the correlation of the mean value of a medical category is always below the correlation with either the minimum value or the maximimum value."
   ]
  },
  {
   "cell_type": "markdown",
   "metadata": {},
   "source": [
    "We perform the analogous feature selection with the test set. "
   ]
  },
  {
   "cell_type": "code",
   "execution_count": null,
   "metadata": {},
   "outputs": [],
   "source": [
    "# Drop irrelevant columns in the X test set\n",
    "X_testC = X_testB.drop(['subject_id','hadm_id','icustay_id','DOB','ADMITTIME','Diff','HeartRate_Mean',\n",
    "                         'SysBP_Mean','DiasBP_Mean','MeanBP_Mean','RespRate_Mean','TempC_Mean','SpO2_Mean',\n",
    "                          'Glucose_Mean'],axis=1)\n"
   ]
  },
  {
   "cell_type": "markdown",
   "metadata": {},
   "source": [
    "### 2.7) Preprocessing Pipeline"
   ]
  },
  {
   "cell_type": "markdown",
   "metadata": {},
   "source": [
    "We will use the ColumnTransformer to allwo for different data preprocessing for differen types of columns\n",
    "\n",
    "Numerical values - RobustScaler() and KNNImputer()\n",
    "Categoricals (not ICD9) - OneHotEncoder() and StandardScaler()\n",
    "ICD9 - TargetEncoder() and StandardScaler()"
   ]
  },
  {
   "cell_type": "code",
   "execution_count": null,
   "metadata": {},
   "outputs": [],
   "source": [
    "# Update list of numerical and categorical features\n",
    "X_trainC.dtypes\n",
    "num_feat = X_trainC.select_dtypes(exclude=['object', 'category']).columns\n",
    "print(num_feat)\n",
    "\n",
    "cat_feat = X_trainC.select_dtypes(include=['object', 'category']).columns\n",
    "\n",
    "\n",
    "# Make own category for preprocessing 'ICD9_diagnosis'\n",
    "icd9_feat = ['ICD9_diagnosis']\n",
    "cat_feat = cat_feat.drop(['ICD9_diagnosis'])\n",
    "print(cat_feat)\n",
    "print(icd9_feat)\n",
    "\n",
    "# pipeline for numerical data\n",
    "num_preprocessing = make_pipeline(\n",
    "    cont_scaler,\n",
    "    cont_imputer\n",
    "    )\n",
    "\n",
    "# pipeline for categorical data\n",
    "cat_preprocessing = make_pipeline(\n",
    "    cat_encoder,\n",
    "    cat_scaler\n",
    "    )\n",
    "\n",
    "# pipeline for ICD9\n",
    "icd9_preprocessing = make_pipeline(\n",
    "    icd9_encoder,\n",
    "    cat_scaler)\n",
    "\n",
    "# combine preprocessing pipelines using a columnTransformer\n",
    "preprocessing = ColumnTransformer(\n",
    "    [(\"num\", num_preprocessing, num_feat),\n",
    "     (\"cat\", cat_preprocessing, cat_feat),\n",
    "     (\"icd9\", icd9_preprocessing, icd9_feat)\n",
    "     ]\n",
    ")\n"
   ]
  },
  {
   "cell_type": "markdown",
   "metadata": {},
   "source": [
    "### 2.8) Reweighing important columns"
   ]
  },
  {
   "cell_type": "markdown",
   "metadata": {},
   "source": [
    "Based on some subjective judgements, you may wish to upweight some of the variables."
   ]
  },
  {
   "cell_type": "code",
   "execution_count": null,
   "metadata": {},
   "outputs": [],
   "source": [
    "class ColumnReweighter:\n",
    "  def __init__(self, columns, weight):\n",
    "    self.columns = columns\n",
    "    self.weight = weight\n",
    "\n",
    "  def transform(self, X):\n",
    "    Y = X.copy()\n",
    "    for col in self.columns:\n",
    "      try: \n",
    "        Y[col] = X[col]*self.weight\n",
    "      except:\n",
    "        print(\"Column not in X\")\n",
    "\n",
    "    return Y \n"
   ]
  },
  {
   "cell_type": "markdown",
   "metadata": {},
   "source": [
    "Determine variables to possibly re weight. "
   ]
  },
  {
   "cell_type": "code",
   "execution_count": null,
   "metadata": {},
   "outputs": [],
   "source": [
    "# Determine columns to reweight to include pipeline\n",
    "reweight_feat = [\"age\", 'ICD9_diagnosis', 'HeartRate_Max','SEQ_NUM']\n"
   ]
  },
  {
   "cell_type": "markdown",
   "metadata": {},
   "source": [
    "## <ins>Part 3: Models </ins>"
   ]
  },
  {
   "cell_type": "code",
   "execution_count": null,
   "metadata": {},
   "outputs": [],
   "source": [
    "### 3.1) DECISION TREES"
   ]
  },
  {
   "cell_type": "markdown",
   "metadata": {},
   "source": [
    "We define a pipeline for training a decision tree regressor model on some data. The pipeline consists of two steps: preprocessing the data using the 'preprocess' transformer, and fitting a decision tree regressor model to the preprocessed data using the 'model' step. The decision tree regressor model uses the 'squared_error' criterion for splitting nodes. We are also setting the display configuration to \"diagram\""
   ]
  },
  {
   "cell_type": "code",
   "execution_count": null,
   "metadata": {},
   "outputs": [],
   "source": [
    "# Feature name and Class label\n",
    "feature_names = X_trainC.columns\n",
    "class_label = [\"Length of Stay\"]\n",
    "\n",
    "DT_pipe = Pipeline([\n",
    "        ('preprocess', preprocessing),\n",
    "        ('model', DecisionTreeRegressor(criterion='squared_error'))\n",
    "])\n",
    "\n",
    "set_config(display=\"diagram\")\n",
    "DT_pipe"
   ]
  },
  {
   "cell_type": "markdown",
   "metadata": {},
   "source": [
    "We are using a grid search to find the best hyperparameters for a decision tree regressor model. The grid search uses cross-validation and parallel processing to evaluate different hyperparameter combinations. The best hyperparameters and corresponding cross-validation score are printed."
   ]
  },
  {
   "cell_type": "code",
   "execution_count": null,
   "metadata": {},
   "outputs": [],
   "source": [
    "# Set the tuning hyperparameter possible values\n",
    "DT_params = {\n",
    "    'model__min_impurity_decrease': [0.01, 0.05, 0.1, 0.2, 0.4, 0.8, 1.0],\n",
    "    'model__max_leaf_nodes': [10, 20, 50, 100, 200],\n",
    "    'model__min_samples_leaf': [1, 5, 10, 20],\n",
    "    'model__min_samples_split': [2, 5, 10],\n",
    "}\n",
    "\n",
    "# Set grid search through cross validation\n",
    "# Define the grid search object\n",
    "grid_dt = GridSearchCV(estimator=DT_pipe,\n",
    "                           param_grid=DT_params,\n",
    "                           scoring='neg_root_mean_squared_error',\n",
    "                           cv=2,\n",
    "                           n_jobs=-1)\n",
    "\n",
    "# Fit the grid search object\n",
    "grid_dt.fit(X_trainC, y_train)\n"
   ]
  },
  {
   "cell_type": "markdown",
   "metadata": {},
   "source": [
    "We are using the above code to estimate the root mean squared prediction error of the best estimator, store the results of the grid search in a data frame, make predictions with the best performing model on the test set, create a data frame with these predictions to submit to Kaggle, and convert the data frame to a CSV file."
   ]
  },
  {
   "cell_type": "code",
   "execution_count": null,
   "metadata": {},
   "outputs": [],
   "source": [
    "# Root mean square prediction error estimate of best estimator\n",
    "rmse_cv_dt = -1*grid_dt.best_score_\n",
    "rmse_cv_dt\n",
    "\n",
    "# Store grid search results in a data frame\n",
    "res_dt = pd.DataFrame(grid_dt.cv_results_)\n",
    "\n",
    "# Predictions with best performing models on test set\n",
    "y_pred_bm_dt = grid_dt.predict(X_testC)\n",
    "y_pred_bm_dt = pd.DataFrame(y_pred_bm_dt,columns=[\"LOS_pred\"])\n",
    "\n",
    "# Data frame to submit to kaggle\n",
    "test_predictions_submit_dt = pd.DataFrame({\"icustay_id\": icustay_id.iloc[:,0],\n",
    "                                           \"LOS\": y_pred_bm_dt.iloc[:,0]})\n",
    "#Convert to CSV\n",
    "test_predictions_submit_dt.to_csv(\"predictionDT.csv\",index=False)\n"
   ]
  },
  {
   "cell_type": "code",
   "execution_count": null,
   "metadata": {},
   "outputs": [],
   "source": [
    "### 3.2) RANDOM FORESTS"
   ]
  },
  {
   "cell_type": "markdown",
   "metadata": {},
   "source": [
    "We are using a pipeline with the 'preprocess' step, which is the ColumnTransformer object defined earlier, followed by the 'RF' step, which is a RandomForestRegressor object with the criterion set to 'squared_error'. This pipeline takes in raw data and applies the preprocessing steps defined in the ColumnTransformer object before using the RandomForestRegressor to fit the model and make predictions"
   ]
  },
  {
   "cell_type": "code",
   "execution_count": null,
   "metadata": {},
   "outputs": [],
   "source": [
    "RF_pipe = Pipeline([\n",
    "        ('preprocess', preprocessing),\n",
    "        ('RF', RandomForestRegressor(criterion='squared_error'))])\n",
    "\n",
    "set_config(display=\"diagram\")\n",
    "RF_pipe\n"
   ]
  },
  {
   "cell_type": "markdown",
   "metadata": {},
   "source": [
    "In the following chunk, we are using a pipeline to first preprocess the data using the 'preprocess' transformer and then applying a Random Forest Regressor model on the preprocessed data. The hyperparameters of the Random Forest Regressor model are then tuned using a grid search cross-validation method, with the 'neg_root_mean_squared_error' as the evaluation metric. The code then fits the model to the training data and prints the best parameters and score obtained from the grid search cross-validation."
   ]
  },
  {
   "cell_type": "code",
   "execution_count": null,
   "metadata": {},
   "outputs": [],
   "source": [
    "# Set the tuning hyperparameter possible values\n",
    "RF_params = {\n",
    "    'RF__bootstrap': [True, False],\n",
    "    'RF__n_estimators': [10, 50, 100, 200],\n",
    "    'RF__max_depth': [5, 10, 20],\n",
    "    'RF__min_samples_leaf': [1, 5, 10],\n",
    "    'RF__min_samples_split': [2, 5, 10]\n",
    "}\n",
    "\n",
    "\n",
    "# Set grid search through cross validation\n",
    "grid_rf = GridSearchCV(RF_pipe, RF_params , scoring ='neg_root_mean_squared_error' ,cv=2,verbose=3,n_jobs=-1)\n",
    "model_rf=grid_rf.fit(X_trainC, y_train)\n",
    "\n",
    "print(\"Best parameter (CV score=%0.3f):\" % grid_rf.best_score_)\n",
    "print(grid_rf.best_params_)"
   ]
  },
  {
   "cell_type": "markdown",
   "metadata": {},
   "source": [
    "We now use the random forest algorithm to predict the length of stay for patients in an intensive care unit. We are utilizing a grid search and cross-validation to find the best combination of hyperparameters for our model, and we are measuring the performance of the model using the root mean square prediction error (RMSE). We are then using the best model to make predictions on the test set."
   ]
  },
  {
   "cell_type": "code",
   "execution_count": null,
   "metadata": {},
   "outputs": [],
   "source": [
    "\n",
    "# Root mean square prediction error estimate of best estimator\n",
    "rmse_cv_rf = -1*grid_rf.best_score_\n",
    "rmse_cv_rf\n",
    "\n",
    "# Store grid search results in a data frame\n",
    "res_rf = pd.DataFrame(grid_rf.cv_results_)\n",
    "\n",
    "\n",
    "# Predictions with best performing models on test set\n",
    "y_pred_bm_rf = grid_rf.predict(X_testC)\n",
    "y_pred_bm_rfdf = pd.DataFrame(y_pred_bm_rf,columns=[\"LOS_pred\"])\n",
    "\n",
    "# Data frame to submit to kaggle\n",
    "test_predictions_submit_rf = pd.DataFrame({\"icustay_id\": icustay_id.iloc[:,0],\n",
    "                                           \"LOS\": y_pred_bm_rfdf.iloc[:,0]})\n",
    "#Convert to CSV\n",
    "test_predictions_submit_rf.to_csv(\"predictionRF2.csv\",index=False)\n"
   ]
  },
  {
   "cell_type": "markdown",
   "metadata": {},
   "source": [
    "#### Model Interpretability"
   ]
  },
  {
   "cell_type": "markdown",
   "metadata": {},
   "source": [
    "We are using the SHAP library to explain the predictions made by a random forest model on the test set.  We are calculating the SHAP values for the test set and using a bar chart to visualize the contributions of each feature to the model's predictions."
   ]
  },
  {
   "cell_type": "code",
   "execution_count": null,
   "metadata": {},
   "outputs": [],
   "source": [
    "# Preprocess the training data\n",
    "#X_trainC_preprocessed = preprocessing.fit_transform(X_trainC,y_train)\n",
    "#X_testC_preprocessed = preprocessing.transform(X_testC)\n",
    "\n",
    "#import shap\n",
    "# Create the explainer\n",
    "#explainer = shap.TreeExplainer(grid_rf.fit(X_trainC, y_train))\n",
    "\n",
    "# Calculate the SHAP values\n",
    "#shap_values = explainer.shap_values(X_testC_preprocessed)\n",
    "\n",
    "# Initialize the JS visualization\n",
    "#shap.initjs()\n",
    "\n",
    "# Plot the SHAP values\n",
    "#shap.summary_plot(shap_values, X_testC_preprocessed, plot_type=\"bar\")\n"
   ]
  },
  {
   "cell_type": "code",
   "execution_count": null,
   "metadata": {},
   "outputs": [],
   "source": [
    "### 3.3) ADAPTIVE BOOSTING"
   ]
  },
  {
   "cell_type": "markdown",
   "metadata": {},
   "source": [
    "This code creates a pipeline using the AdaBoostRegressor algorithm from scikit-learn. The pipeline consists of two steps: preprocessing and fitting the data to an AdaBoost regressor model with a decision tree regressor as the base estimator."
   ]
  },
  {
   "cell_type": "code",
   "execution_count": null,
   "metadata": {},
   "outputs": [],
   "source": [
    "from sklearn.ensemble import AdaBoostRegressor\n",
    "\n",
    "AB_pipe = Pipeline([\n",
    "        ('preprocess', preprocessing),\n",
    "        ('AB', AdaBoostRegressor(base_estimator=DecisionTreeRegressor()))])\n",
    "\n",
    "set_config(display=\"diagram\")\n",
    "AB_pipe\n"
   ]
  },
  {
   "cell_type": "markdown",
   "metadata": {},
   "source": [
    "Next, we define a grid search with cross-validation to tune the hyperparameters of an AdaBoost regressor model. The model is contained in a pipeline with a preprocessing step. The hyperparameters being tuned are the learning rate and the number of estimators, and the possible values for each are specified in the dictionary "
   ]
  },
  {
   "cell_type": "code",
   "execution_count": null,
   "metadata": {},
   "outputs": [],
   "source": [
    "# Set the tuning hyperparameters and their possible values\n",
    "AB_params = {\n",
    "    'AB__learning_rate': [0.01, 0.1, 0.5, 1.0, 2.0, 5.0],\n",
    "    'AB__n_estimators': [10, 50, 100, 200, 500, 1000]\n",
    "}\n",
    "\n",
    "# Set grid search through cross validation\n",
    "grid_gb = GridSearchCV(AB_pipe, AB_params , scoring ='neg_root_mean_squared_error' ,cv=2,verbose=3,n_jobs=-1)\n",
    "grid_gb.fit(X_trainC, y_train)\n",
    "\n",
    "print(\"Best parameter (CV score=%0.3f):\" % grid_gb.best_score_)\n",
    "print(grid_gb.best_params_)\n",
    "\n",
    "# Predict using best model\n",
    "y_pred_gb = grid_gb.predict(X_testC)\n",
    "y_pred_gb = pd.DataFrame(y_pred_gb)\n",
    "\n",
    "\n",
    "# Data frame to submit to kaggle\n",
    "test_predictions_submit_gb = pd.DataFrame({\"icustay_id\": icustay_id.iloc[:,0] ,\n",
    "                                           \"LOS\": y_pred_gb.iloc[:,0]})\n",
    "#Convert to CSV\n",
    "test_predictions_submit_gb.to_csv(\"predictionGB.csv\",index=False)\n"
   ]
  },
  {
   "cell_type": "code",
   "execution_count": null,
   "metadata": {},
   "outputs": [],
   "source": [
    "### 3.4) EXTREME GRADIENT BOOSTING"
   ]
  },
  {
   "cell_type": "markdown",
   "metadata": {},
   "source": [
    "XGBoost is a library for implementing gradient boosting algorithms, which are a type of ensemble model that combines the predictions of multiple weak models to make a strong prediction. One key difference between the XGBoost model and the AdaBoost model is that XGBoost uses decision tree base models, while AdaBoost can use any type of base model.\n",
    "The XGBoost model in this code is contained in a pipeline with a preprocessing step, similar to the pipeline created for the AdaBoost model."
   ]
  },
  {
   "cell_type": "code",
   "execution_count": null,
   "metadata": {},
   "outputs": [],
   "source": [
    "from xgboost import XGBRegressor\n",
    "\n",
    "# Create a pipeline for the XGBoost model\n",
    "XGB_pipe = Pipeline([\n",
    "        ('preprocess', preprocessing),\n",
    "        ('XGB', XGBRegressor(objective='reg:squarederror'))])\n",
    "\n",
    "set_config(display=\"diagram\")\n",
    "XGB_pipe"
   ]
  },
  {
   "cell_type": "markdown",
   "metadata": {},
   "source": [
    "The next code is defining a grid search with cross-validation to tune the hyperparameters of an XGBoost model. The model is contained in a pipeline with a preprocessing step. The hyperparameters being tuned are the learning rate, maximum depth, and number of estimators.\n",
    "Once the grid search is complete, the best combination of hyperparameters is printed and the best model is used to make predictions on the test set. The RMSE of the best estimator is also calculated and stored, and the results of the grid search are stored in a data frame."
   ]
  },
  {
   "cell_type": "code",
   "execution_count": null,
   "metadata": {},
   "outputs": [],
   "source": [
    "# Set the tuning hyperparameters and their possible values\n",
    "XGB_params = {\n",
    "    'XGB__learning_rate': [0.01, 0.05, 0.1, 0.5, 1.0],\n",
    "    'XGB__max_depth': [1, 3, 5, 7, 9],\n",
    "    'XGB__n_estimators': [10, 50, 100, 250]\n",
    "}\n",
    "\n",
    "# Set grid search through cross validation\n",
    "grid_xgb = GridSearchCV(XGB_pipe, XGB_params , scoring='neg_root_mean_squared_error' ,cv=2,verbose=3,n_jobs=-1)\n",
    "grid_xgb.fit(X_trainC, y_train)\n",
    "\n",
    "print(\"Best parameter (CV score=%0.3f):\" % grid_xgb.best_score_)\n",
    "print(grid_xgb.best_params_)\n",
    "\n",
    "# Root mean square prediction error estimate of best estimator\n",
    "rmse_cv_xgb = -1*grid_xgb.best_score_\n",
    "rmse_cv_xgb\n",
    "\n",
    "# Store grid search results in a data frame\n",
    "res_xgb = pd.DataFrame(grid_xgb.cv_results_)\n",
    "\n",
    "# Predictions with best performing model on test set\n",
    "y_pred_bm_xgb = grid_xgb.predict(X_testC)\n",
    "y_pred_bm_xgb = pd.DataFrame(y_pred_bm_xgb,columns=[\"LOS_pred\"])\n",
    "\n",
    "# Data frame to submit to kaggle\n",
    "test_predictions_submit_xgb = pd.DataFrame({\"icustay_id\": icustay_id.iloc[:,0] ,\n",
    "                                           \"LOS\": y_pred_bm_xgb.iloc[:,0]})\n",
    "\n",
    "#Convert to CSV\n",
    "test_predictions_submit_xgb.to_csv(\"predictionXGB.csv\",index=False)\n"
   ]
  },
  {
   "cell_type": "code",
   "execution_count": null,
   "metadata": {},
   "outputs": [],
   "source": [
    "### 3.5) NEURAL NETWORK"
   ]
  },
  {
   "cell_type": "markdown",
   "metadata": {},
   "source": [
    "This code is using the Keras library from TensorFlow to build and train a neural network for regression. The neural network is defined using the Sequential model from Keras, which consists of a linear stack of layers. The model has two layersand uses the ReLU activation function for the first layer and the linear activation function for the second layer. The model is contained in a pipeline with a preprocessing step, similar to the pipelines created for the AdaBoost and XGBoost models. "
   ]
  },
  {
   "cell_type": "code",
   "execution_count": null,
   "metadata": {},
   "outputs": [],
   "source": [
    "from tensorflow.keras.wrappers.scikit_learn import KerasRegressor\n",
    "\n",
    "def build_model():\n",
    "    model = Sequential()\n",
    "    model.add(Dense(units=16, activation='relu', input_dim=X_trainC.shape[1]))\n",
    "    model.add(Dense(units=1, activation='linear'))\n",
    "    model.compile(loss='mean_squared_error', optimizer='adam')\n",
    "    return model\n",
    "\n",
    "# Define the model\n",
    "model = KerasRegressor(build_fn=build_model)\n",
    "\n",
    "\n",
    "NN_pipe = Pipeline([\n",
    "        ('preprocess', preprocessing),\n",
    "        ('model', model)])\n",
    "\n",
    "# Set the hyperparameters to tune and their possible values\n",
    "param_grid = {\n",
    "    'model__batch_size': [16, 32, 64, 128, 256],\n",
    "    'model__epochs': [10, 50, 100, 200, 500]\n",
    "}\n",
    "\n",
    "# Set grid search through cross validation\n",
    "grid = GridSearchCV(estimator=NN_pipe, param_grid=param_grid, cv=2, verbose=4, n_jobs=-1, scoring='neg_mean_squared_error')\n",
    "\n",
    "# Fit model to training data\n",
    "grid.fit(X_trainC, y_train)"
   ]
  },
  {
   "cell_type": "markdown",
   "metadata": {},
   "source": [
    "Moreover, we print the best combination of hyperparameters found by the grid search and the corresponding score, as well as calculating the root mean squared error (RMSE) of the best estimator. The results of the grid search are also stored in a data frame. Finally, the best model is used to make predictions on the test set. "
   ]
  },
  {
   "cell_type": "code",
   "execution_count": null,
   "metadata": {},
   "outputs": [],
   "source": [
    "# Print best parameter and score\n",
    "print(\"Best parameter (CV score=%0.3f):\" % grid.best_score_)\n",
    "print(grid.best_params_)\n",
    "\n",
    "# Root mean square prediction error estimate of best estimator\n",
    "from numpy import sqrt\n",
    "rmse_nn = sqrt(-1*grid.best_score_)\n",
    "rmse_nn\n",
    "\n",
    "# Store grid search results in a data frame\n",
    "res_nn = pd.DataFrame(grid.cv_results_)\n",
    "\n",
    "# Predictions with best performing model on test set\n",
    "y_pred_bm_nn = grid.predict(X_testC)\n",
    "y_pred_bm_nn = pd.DataFrame(y_pred_bm_nn,columns=[\"LOS_pred\"])\n",
    "\n",
    "# Data frame to submit to kaggle\n",
    "test_predictions_submit = pd.DataFrame({\"icustay_id\": icustay_id.iloc[:,0] , \"LOS\": y_pred_bm_nn.iloc[:,0]})\n",
    "\n",
    "# Convert to CSV\n",
    "test_predictions_submit.to_csv(\"predictionNN.csv\", index=False)\n",
    "\n"
   ]
  },
  {
   "cell_type": "markdown",
   "metadata": {},
   "source": [
    "#### Model interpretability "
   ]
  },
  {
   "cell_type": "markdown",
   "metadata": {},
   "source": [
    "This code is using the Lime library to generate an explanation for a specific prediction made by the neural network model. The explanation consists of a list of tuples, where each tuple contains a feature name, a weight, and a description of the feature's impact on the prediction. The weights represent the relative importance of the features for the prediction, and the descriptions indicate whether the feature increased or decreased the predicted output. "
   ]
  },
  {
   "cell_type": "code",
   "execution_count": null,
   "metadata": {},
   "outputs": [],
   "source": [
    "# Define the LimeExplainer\n",
    "#explainer = LimeTabularExplainer(training_data=X_trainC, feature_names=X_trainC.columns,\n",
    "                                   class_names=['LOS'], kernel_width=3)\n",
    "\n",
    "# Explain the prediction for a specific instance\n",
    "#instance = X_testC[0]\n",
    "#explanation = explainer.explain_instance(data_row=instance, predict_fn=grid.predict)\n",
    "\n",
    "# Print the explanation\n",
    "#print(explanation.as_list())\n"
   ]
  },
  {
   "cell_type": "code",
   "execution_count": null,
   "metadata": {},
   "outputs": [],
   "source": [
    "### 3.6) STACKING"
   ]
  },
  {
   "cell_type": "markdown",
   "metadata": {},
   "source": [
    "The next code is creating a stacking regressor, which is an ensemble model that combines the predictions of multiple base models to make a final prediction. The base models are fit to the training data and the final prediction is made by a meta-model, which is trained on the predictions made by the base models.\n",
    "\n",
    "The code is defining three base models: a random forest regressor, an XGBoost regressor, and a neural network.The code is also defining the meta-model as a random forest regressor. The meta-model will be trained on the predictions made by the base models on the training data and used to make final predictions on new data. "
   ]
  },
  {
   "cell_type": "code",
   "execution_count": null,
   "metadata": {},
   "outputs": [],
   "source": [
    "#Import the necessary classes\n",
    "\n",
    "from sklearn.ensemble import StackingRegressor\n",
    "from sklearn.linear_model import LinearRegression\n",
    "from sklearn.model_selection import KFold, ShuffleSplit\n",
    "from sklearn.pipeline import Pipeline\n",
    "\n",
    "# Preprocess the training data\n",
    "X_trainC_preprocessed = preprocessing.fit_transform(X_trainC,y_train)\n",
    "X_testC_preprocessed = preprocessing.transform(X_testC)\n",
    "\n",
    "# Define the hyperparameters to tune and their possible values for each base model\n",
    "rf_params = {'n_estimators': [10, 50, 100, 200],\n",
    "             'max_depth': [5, 10, 20]}\n",
    "xgb_params = {'n_estimators': [10, 50, 100, 200],\n",
    "              'max_depth': [ 5, 10, 20]}\n",
    "nn_params = {'hidden_layer_sizes': [(10,), (50,), (100,), (200,)],\n",
    "             'activation': ['relu', 'tanh']}\n",
    "\n",
    "# Create the base models\n",
    "base_models = [('RF', GridSearchCV(RandomForestRegressor(), rf_params, cv=5, verbose=4, n_jobs=-1)),\n",
    "               ('XGB', GridSearchCV(XGBRegressor(), xgb_params, cv=5, verbose=4, n_jobs=-1)),\n",
    "               ('NN', GridSearchCV(model, nn_params, cv=5, verbose=4, n_jobs=-1))]\n",
    "\n",
    "# Define the meta-model\n",
    "meta_model = RandomForestRegressor()\n"
   ]
  },
  {
   "cell_type": "markdown",
   "metadata": {},
   "source": [
    "The hyperparameters being tuned are the base models and the meta-model. Once the grid search is complete, the best combination of hyperparameters is printed and the root mean squared error (RMSE) of the best estimator is calculated and stored. Finally, the best model is used to make predictions on the test set."
   ]
  },
  {
   "cell_type": "code",
   "execution_count": null,
   "metadata": {},
   "outputs": [],
   "source": [
    "# Set the hyperparameters to tune and their possible values for the meta-model\n",
    "stack_params = {\n",
    "    'estimators': base_models,\n",
    "    'final_estimator': [meta_model],\n",
    "}\n",
    "\n",
    "# Set grid search through cross validation for the stacking regressor\n",
    "grid_stack = GridSearchCV(StackingRegressor(estimators=base_models), stack_params,\n",
    "                          cv=5, verbose=4, n_jobs=-1, scoring='neg_mean_squared_error')\n",
    "grid_stack.fit(X_trainC_preprocessed, y_train)\n",
    "\n",
    "# Print best parameter and score\n",
    "print(\"Best parameter (CV score=%0.3f):\" % grid_stack.best_score_)\n",
    "print(grid_stack.best_params_)\n",
    "\n",
    "# Root mean square prediction error estimate of best estimator\n",
    "rmse_cv_st = -1*grid_stack.best_score_\n",
    "rmse_cv_st\n",
    "\n",
    "# Store grid search results in a data frame\n",
    "res_st = pd.DataFrame(grid_stack.cv_results_)\n",
    "\n",
    "# Predictions with best performing model on test set\n",
    "y_pred_bm_st = grid_stack.predict(X_testC_preprocessed)\n",
    "y_pred_bm_st = pd.DataFrame(y_pred_bm_st, columns=[\"LOS_pred\"])\n",
    "\n",
    "# Data frame to submit to kaggle\n",
    "test_predictions_submit_st = pd.DataFrame({\"icustay_id\": icustay_id.iloc[:, 0],\n",
    "                                           \"LOS\": y_pred_bm_st.iloc[:, 0]})\n",
    "\n",
    "# Convert to CSV\n",
    "test_predictions_submit_st.to_csv(\"predictionST.csv\", index=False)\n"
   ]
  }
 ],
 "metadata": {
  "kernelspec": {
   "display_name": "Python 3",
   "language": "python",
   "name": "python3"
  },
  "language_info": {
   "codemirror_mode": {
    "name": "ipython",
    "version": 3
   },
   "file_extension": ".py",
   "mimetype": "text/x-python",
   "name": "python",
   "nbconvert_exporter": "python",
   "pygments_lexer": "ipython3",
   "version": "3.8.5"
  }
 },
 "nbformat": 4,
 "nbformat_minor": 5
}
