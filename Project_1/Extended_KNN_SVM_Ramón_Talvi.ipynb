{
 "cells": [
  {
   "cell_type": "markdown",
   "id": "amino-custody",
   "metadata": {},
   "source": [
    "# <center><ins>Extended Test:</ins></center>\n",
    " # <center><ins> K-Nearest Neighbours (KNN) & Support Vector Machine (SVM)</ins></center>"
   ]
  },
  {
   "cell_type": "markdown",
   "id": "saved-times",
   "metadata": {},
   "source": [
    "## <ins>Part 1: Set-Up</ins>"
   ]
  },
  {
   "cell_type": "markdown",
   "id": "round-liver",
   "metadata": {},
   "source": [
    " First of all, we import all the random packages and set a random seed to ensure the code is reproducible. "
   ]
  },
  {
   "cell_type": "code",
   "execution_count": 2,
   "id": "hindu-budapest",
   "metadata": {},
   "outputs": [],
   "source": [
    "# Import all necessary packages\n",
    "import os,sys,inspect\n",
    "import matplotlib\n",
    "import matplotlib.pyplot as plt\n",
    "import pandas as pd\n",
    "import seaborn as sns\n",
    "import numpy as np\n",
    "import sklearn\n",
    "from math import floor, ceil\n",
    "from numpy import mean, std\n",
    "from sklearn.impute import SimpleImputer\n",
    "from sklearn import preprocessing\n",
    "from sklearn.svm import SVC\n",
    "from sklearn.model_selection import GridSearchCV\n",
    "from sklearn.compose import ColumnTransformer\n",
    "from sklearn.preprocessing import StandardScaler, OneHotEncoder\n",
    "from sklearn.compose import make_column_transformer\n",
    "from dfmapper import DataFrameMapper\n",
    "from sklearn.neighbors import KNeighborsClassifier\n",
    "from sklearn.model_selection import GridSearchCV\n",
    "from category_encoders import TargetEncoder\n",
    "import category_encoders as ce\n",
    "import dateutil.parser\n",
    "from sklearn.impute import KNNImputer\n",
    "from sklearn.model_selection import cross_val_score\n",
    "from sklearn.model_selection import RepeatedStratifiedKFold\n",
    "from sklearn.pipeline import Pipeline\n",
    "import plotly.express as px\n",
    "from sklearn.svm import LinearSVC\n",
    "from sklearn.datasets import load_iris\n",
    "from sklearn.feature_selection import SelectFromModel\n",
    "\n",
    "# Set random seed\n",
    "np.random.seed(3123)"
   ]
  },
  {
   "cell_type": "markdown",
   "id": "toxic-acoustic",
   "metadata": {},
   "source": [
    "The next task is to load our data. This includes: the 'mimic_train.csv' file with the train set -covariates and target variable included; the 'mimic_test_death.csv' file that provides the test set covariates; finally, we load the file 'mimic_diagnoses.csv' that includes the metadata. After the load, we represent the imported data in data frames."
   ]
  },
  {
   "cell_type": "code",
   "execution_count": 3,
   "id": "rotary-shopper",
   "metadata": {},
   "outputs": [],
   "source": [
    "# Load Data and represent csv as dataframe\n",
    "data = pd.read_csv(\"/Users/Ramon/Documents/Estudio/BSE/Term_1/Computational_Machine_Learning/Tests/Test_2/mimic_train.csv\")\n",
    "data = pd.DataFrame(data)\n",
    "data.nunique()\n",
    "\n",
    "X_test0 = pd.read_csv(\"//Users/Ramon/Documents/Estudio/BSE/Term_1/Computational_Machine_Learning/Tests/Test_2/mimic_test_death.csv\")\n",
    "X_test0 = pd.DataFrame(X_test0)\n",
    "\n",
    "X_metadata = pd.read_csv(\"//Users/Ramon/Documents/Estudio/BSE/Term_1/Computational_Machine_Learning/Tests/Test_2/MIMIC_diagnoses.csv\")"
   ]
  },
  {
   "cell_type": "markdown",
   "id": "early-tuesday",
   "metadata": {},
   "source": [
    "A brief exploration of our datasets is performed to gain a preliminary intuition of our variables. "
   ]
  },
  {
   "cell_type": "code",
   "execution_count": 173,
   "id": "greatest-welcome",
   "metadata": {},
   "outputs": [
    {
     "name": "stdout",
     "output_type": "stream",
     "text": [
      "(20885, 41)\n",
      "(5221, 39)\n",
      "Index(['HOSPITAL_EXPIRE_FLAG', 'subject_id', 'hadm_id', 'icustay_id',\n",
      "       'HeartRate_Min', 'HeartRate_Max', 'HeartRate_Mean', 'SysBP_Min',\n",
      "       'SysBP_Max', 'SysBP_Mean', 'DiasBP_Min', 'DiasBP_Max', 'DiasBP_Mean',\n",
      "       'MeanBP_Min', 'MeanBP_Max', 'MeanBP_Mean', 'RespRate_Min',\n",
      "       'RespRate_Max', 'RespRate_Mean', 'TempC_Min', 'TempC_Max', 'TempC_Mean',\n",
      "       'SpO2_Min', 'SpO2_Max', 'SpO2_Mean', 'Glucose_Min', 'Glucose_Max',\n",
      "       'Glucose_Mean', 'GENDER', 'DOB', 'ADMITTIME', 'Diff', 'ADMISSION_TYPE',\n",
      "       'INSURANCE', 'RELIGION', 'MARITAL_STATUS', 'ETHNICITY', 'DIAGNOSIS',\n",
      "       'ICD9_diagnosis', 'FIRST_CAREUNIT', 'LOS'],\n",
      "      dtype='object')\n",
      "0    18540\n",
      "1     2345\n",
      "Name: HOSPITAL_EXPIRE_FLAG, dtype: int64\n"
     ]
    }
   ],
   "source": [
    "#Exploring Data Sets\n",
    "print(data.shape)\n",
    "print(X_test0.shape)\n",
    "print(data.columns)\n",
    "print(data[\"HOSPITAL_EXPIRE_FLAG\"].value_counts())"
   ]
  },
  {
   "cell_type": "markdown",
   "id": "united-portuguese",
   "metadata": {},
   "source": [
    "## <ins>Part 2: Pre-Processing</ins>"
   ]
  },
  {
   "cell_type": "markdown",
   "id": "found-conservation",
   "metadata": {},
   "source": [
    "### A) Analyzing outliers"
   ]
  },
  {
   "cell_type": "markdown",
   "id": "optional-milton",
   "metadata": {},
   "source": [
    "First of all, we contemplate the possibility of excluding outliers that are beyond 3 standard deviations from the mean. We only analyze some numerical variables in the training set for potencial outlier exclusion. "
   ]
  },
  {
   "cell_type": "code",
   "execution_count": 174,
   "id": "transsexual-senate",
   "metadata": {},
   "outputs": [],
   "source": [
    "# Define a function to remove outliers from a particular dataframe column\n",
    "def subset_by_iqr(df, column, whisker_width):\n",
    "    \"\"\"Remove outliers from a dataframe by column, including optional\n",
    "       whiskers, removing rows for which the column value are\n",
    "       less than Q1-1.5IQR or greater than Q3+1.5IQR.\n",
    "    Args:\n",
    "        df (`:obj:pd.DataFrame`): A pandas dataframe to subset\n",
    "        column (str): Name of the column to calculate the subset from.\n",
    "        whisker_width (float): Optional, loosen the IQR filter by a\n",
    "                               factor of `whisker_width` * IQR.\n",
    "    Returns:\n",
    "        (`:obj:pd.DataFrame`): Filtered dataframe\n",
    "    \"\"\"\n",
    "    # Calculate Q1, Q2 and IQR\n",
    "    q1 = df[column].quantile(0.25)\n",
    "    q3 = df[column].quantile(0.75)\n",
    "    iqr = q3 - q1\n",
    "    # Apply filter with respect to IQR, including optional whiskers\n",
    "    filter = (df[column] >= q1 - whisker_width*iqr) & (df[column] <= q3 + whisker_width*iqr)\n",
    "    return df.loc[filter]\n",
    "\n",
    "\n",
    "# Exclude outliers that are beyond 3 std from the mean for some numerical variables in training set\n",
    "data_outliers = subset_by_iqr(data, column='HeartRate_Min', whisker_width=3)\n",
    "data_outliers = subset_by_iqr(data_outliers, column='HeartRate_Max', whisker_width=3)\n",
    "\n",
    "data_outliers = subset_by_iqr(data_outliers, column='SysBP_Min', whisker_width=3)\n",
    "data_outliers = subset_by_iqr(data_outliers, column='SysBP_Max', whisker_width=3)\n",
    "\n",
    "data_outliers = subset_by_iqr(data_outliers, column='DiasBP_Min', whisker_width=3)\n",
    "data_outliers = subset_by_iqr(data_outliers, column='DiasBP_Max', whisker_width=3)\n",
    "\n",
    "data_outliers = subset_by_iqr(data_outliers, column='MeanBP_Min', whisker_width=3)\n",
    "data_outliers = subset_by_iqr(data_outliers, column='MeanBP_Max', whisker_width=3)\n",
    "\n",
    "data_outliers = subset_by_iqr(data_outliers, column='RespRate_Min', whisker_width=3)\n",
    "data_outliers = subset_by_iqr(data_outliers, column='RespRate_Max', whisker_width=3)\n",
    "\n",
    "data_outliers = subset_by_iqr(data_outliers, column='TempC_Min', whisker_width=3)\n",
    "data_outliers = subset_by_iqr(data_outliers, column='TempC_Max', whisker_width=3)\n",
    "\n",
    "data_outliers = subset_by_iqr(data_outliers, column='SpO2_Min', whisker_width=3)\n",
    "data_outliers = subset_by_iqr(data_outliers, column='SpO2_Max', whisker_width=3)\n",
    "\n",
    "data_outliers = subset_by_iqr(data_outliers, column='Glucose_Min', whisker_width=3)\n",
    "data_outliers = subset_by_iqr(data_outliers, column='Glucose_Max', whisker_width=3)"
   ]
  },
  {
   "cell_type": "markdown",
   "id": "functioning-habitat",
   "metadata": {},
   "source": [
    "The impact on performance metrics provoked by the exclusion of outliers was assesed for different values of the whisker width. As outlier exclusion didn't have a significant impact on subsequent used performance metrics -it even worsen simulated predictions assesed by cross-validation- we opted to keep rare extreme values in our training set. This may seem sensible as extreme values in one variable may provide some valuable information regarding the probability of survival. In short, the evidence suggested it was convenient to keep outliers in our training set. "
   ]
  },
  {
   "cell_type": "markdown",
   "id": "decimal-specific",
   "metadata": {},
   "source": [
    "### B) Working with Metadata"
   ]
  },
  {
   "cell_type": "markdown",
   "id": "through-dining",
   "metadata": {},
   "source": [
    "The metadata provided information on the name of co-morbilities (ICD9_CODE) associated to a main diagnose for a subset of patients in the training set. Naturally, the type of co-morbility possibly adds explanatory power to our model attempting to predict the probability of survival. Our first step is to merge our metadata data frame with our target variable present in the training set. After this we target encoded the name of the co-morbilities: recall target encoding involves replacing the “features with a blend of posterior probability of the target given particular categorical value and the prior probability of the target over all the training data\". In simple terms, we replace the categories considering the effect they might have on the target variable. After targeting encoding ICD9_CODE we computed the mean value of ICD9_CODE for each subject_id as a representative measure. Finally, we merged the encoded feature with our training set hence adding an aditional covariate. Note that unlike one hot encoding (extension), target encoding does not substantially increase dimensionality.   "
   ]
  },
  {
   "cell_type": "code",
   "execution_count": 175,
   "id": "modular-jacket",
   "metadata": {},
   "outputs": [
    {
     "name": "stderr",
     "output_type": "stream",
     "text": [
      "/Library/Frameworks/Python.framework/Versions/3.9/lib/python3.9/site-packages/category_encoders/target_encoder.py:122: FutureWarning: Default parameter min_samples_leaf will change in version 2.6.See https://github.com/scikit-learn-contrib/category_encoders/issues/327\n",
      "  warnings.warn(\"Default parameter min_samples_leaf will change in version 2.6.\"\n",
      "/Library/Frameworks/Python.framework/Versions/3.9/lib/python3.9/site-packages/category_encoders/target_encoder.py:127: FutureWarning: Default parameter smoothing will change in version 2.6.See https://github.com/scikit-learn-contrib/category_encoders/issues/327\n",
      "  warnings.warn(\"Default parameter smoothing will change in version 2.6.\"\n"
     ]
    }
   ],
   "source": [
    "# Target encode variable ICD9_CODE from metadata\n",
    "\n",
    "## Rename metadata columns to ensure compatibility with training set\n",
    "X_metadata = X_metadata.rename(columns={'SUBJECT_ID':'subject_id'})\n",
    "X_metadata = X_metadata.rename(columns={'HADM_ID':'hadm_id'})\n",
    "\n",
    "# Merge the relevant columns from training set with metadata using subject_id as our main key\n",
    "cols_y = data[['subject_id','HOSPITAL_EXPIRE_FLAG']]\n",
    "X_metadataA = X_metadata.merge(cols_y,how='inner',on='subject_id')\n",
    "\n",
    "# Choose encoder, fit and transform our mutated metadata dataframe\n",
    "encoder = TargetEncoder()\n",
    "encoded_ICD9 = encoder.fit_transform(X_metadataA[['ICD9_CODE']],X_metadataA[['HOSPITAL_EXPIRE_FLAG']])\n",
    "\n",
    "# Concatenate our mutated metadata dataframe with encoded feature \n",
    "X_metadataB = pd.concat([X_metadataA,encoded_ICD9],axis=1)\n",
    "\n",
    "# Group mutated metadata frame with encoded feature by subject_id and hadm_id, \n",
    "# and calculate mean of the target encoded variable to add as a new feature in training set\n",
    "X_metadataC = X_metadataB.groupby(['subject_id','hadm_id'],as_index=False)['ICD9_CODE'].mean()\n",
    "\n",
    "# Add target encoded variable ICD9_CODE to training set\n",
    "data0 = data.merge(X_metadataC,how='left',on=['subject_id','hadm_id'])"
   ]
  },
  {
   "cell_type": "markdown",
   "id": "intellectual-water",
   "metadata": {},
   "source": [
    "The analogous process as the preceeding one was performed for the test set. Nonetheless, instead of using the test set to fit and transform our encoder we use the training set data to impute variable ICD9_CODE in our test set. "
   ]
  },
  {
   "cell_type": "code",
   "execution_count": 176,
   "id": "together-harvard",
   "metadata": {},
   "outputs": [
    {
     "name": "stderr",
     "output_type": "stream",
     "text": [
      "/Library/Frameworks/Python.framework/Versions/3.9/lib/python3.9/site-packages/category_encoders/target_encoder.py:122: FutureWarning: Default parameter min_samples_leaf will change in version 2.6.See https://github.com/scikit-learn-contrib/category_encoders/issues/327\n",
      "  warnings.warn(\"Default parameter min_samples_leaf will change in version 2.6.\"\n",
      "/Library/Frameworks/Python.framework/Versions/3.9/lib/python3.9/site-packages/category_encoders/target_encoder.py:127: FutureWarning: Default parameter smoothing will change in version 2.6.See https://github.com/scikit-learn-contrib/category_encoders/issues/327\n",
      "  warnings.warn(\"Default parameter smoothing will change in version 2.6.\"\n"
     ]
    }
   ],
   "source": [
    "# Select subject_id column in test set and merge feature with metadata dataframe using subject_id as main key\n",
    "cols_y_T = X_test0[['subject_id']]\n",
    "X_metadata1 = X_metadata.merge(cols_y_T,how='inner',on='subject_id')\n",
    "\n",
    "# Choose encoder, fit it in the training set and transform the test set \n",
    "encoder = TargetEncoder()\n",
    "encoded_ICD9 = encoder.fit(X_metadataA[['ICD9_CODE']],X_metadataA[['HOSPITAL_EXPIRE_FLAG']])\n",
    "encoded_ICD9_T = encoder.transform(X_metadata1[['ICD9_CODE']])\n",
    "\n",
    "# Concatenate our metadata for test set with target encoded feature ICD9_CODE\n",
    "X_metadata2 = pd.concat([X_metadata1,encoded_ICD9_T],axis=1)\n",
    "\n",
    "# Select the relevant columns from metadata: subject_id, hadm_id and ICD9_CODE\n",
    "X_metadata3 = X_metadata2.iloc[:,[0,1,4]]\n",
    "\n",
    "# Group mutated metadata frame with encoded feature by subject_id and hadm_id, \n",
    "# and calculate mean of the target encoded variable to add as a new feature in test set\n",
    "X_metadata4 = X_metadata3.groupby(['subject_id','hadm_id'],as_index=False)['ICD9_CODE'].mean()\n",
    "\n",
    "# Add target encoded variable ICD9_CODE to test set\n",
    "X_testA = X_test0.merge(X_metadata4,how='left',on=['subject_id','hadm_id'])"
   ]
  },
  {
   "cell_type": "markdown",
   "id": "restricted-territory",
   "metadata": {},
   "source": [
    "Another potentially useful information implicitely present in the metadata is the number of co-morbilities. We would like to include this feature as an explanatory variable both on the training set and test set.  "
   ]
  },
  {
   "cell_type": "code",
   "execution_count": 177,
   "id": "cleared-music",
   "metadata": {},
   "outputs": [],
   "source": [
    "# Make sure our metadata column names have been renamed appropiately for compatibility with training set\n",
    "X_metadata = X_metadata.rename(columns={'SUBJECT_ID':'subject_id'})\n",
    "X_metadata = X_metadata.rename(columns={'HADM_ID':'hadm_id'})\n",
    "\n",
    "# Group our metadata by subject_id and hadm_id and count the number of comorbilities indicated by the column SEQ_NUM\n",
    "X_metadata2 = X_metadata.groupby(['subject_id','hadm_id'],as_index=False)['SEQ_NUM'].count()\n",
    "\n",
    "# Merge our newly created variable with training set using subject_id and hadm_id as keys\n",
    "data1 = data0.merge(X_metadata2,how='left',on=['subject_id','hadm_id'])"
   ]
  },
  {
   "cell_type": "markdown",
   "id": "known-prompt",
   "metadata": {},
   "source": [
    "Analogously, we add the newly created explanatory variable to the corresponding patients in the test set, using -as in the trainig set merge- subject_id and hadm_id as keys. "
   ]
  },
  {
   "cell_type": "code",
   "execution_count": 178,
   "id": "associate-truth",
   "metadata": {},
   "outputs": [],
   "source": [
    "# Merge test set with metadata to conform the new test set using subject_id and hadm_id as keys\n",
    "X_testB = X_testA.merge(X_metadata2,how='left',on=['subject_id','hadm_id'])"
   ]
  },
  {
   "cell_type": "markdown",
   "id": "damaged-controversy",
   "metadata": {},
   "source": [
    "### C) Creating Age variable"
   ]
  },
  {
   "cell_type": "markdown",
   "id": "least-peninsula",
   "metadata": {},
   "source": [
    "Despite the age of each patient is not explicitely present in the dataset, it may be infered. We have the admision time and the date of birth of almost every patient. Therefore, by performing a simple subtraction we can obtain the estimated age of most of the patients. "
   ]
  },
  {
   "cell_type": "code",
   "execution_count": 179,
   "id": "indirect-exception",
   "metadata": {},
   "outputs": [
    {
     "data": {
      "image/png": "[encoded data removed]",
      "text/plain": [
       "<Figure size 432x288 with 1 Axes>"
      ]
     },
     "metadata": {
      "needs_background": "light"
     },
     "output_type": "display_data"
    }
   ],
   "source": [
    "# Select appropiate columns from the training set to find date difference\n",
    "data_age = data1[['DOB', 'ADMITTIME']]\n",
    "\n",
    "# We convert the relevant columns to standard date time represent them in a dataframe \n",
    "data_age_dob= pd.to_datetime(data_age['DOB'])\n",
    "data_age_adm= pd.to_datetime(data_age['ADMITTIME'])\n",
    "data_age_dob = pd.DataFrame(data_age_dob)\n",
    "data_age_adm = pd.DataFrame(data_age_adm)\n",
    "\n",
    "# Extract the year of each of the relevant columns\n",
    "data_age_dob['Age'] = pd.DatetimeIndex(data_age_dob.iloc[:,0]).year\n",
    "data_age_adm['Age'] = pd.DatetimeIndex(data_age_adm.iloc[:,0]).year\n",
    "\n",
    "# Perform the subtraction to find the age and load it into a dataframe\n",
    "data_diff = data_age_adm['Age']-data_age_dob['Age']\n",
    "data_diff=pd.DataFrame(data_diff )\n",
    "\n",
    "# Represent the Age in a histogram\n",
    "plt.xlabel(\"Age\", fontsize=16)\n",
    "plt.ylabel(\"Frequency\", fontsize=16)\n",
    "plt.hist(data_diff,bins=100,range=[0, 350],label='AGE')\n",
    "plt.show()"
   ]
  },
  {
   "cell_type": "markdown",
   "id": "enabling-passport",
   "metadata": {},
   "source": [
    "As we can witness from the histogram, there are some values above 300 that are not plausible. After some online investigation we discovered that \"age for patients older than eighty-nine is masked as 300 in MIMIC- III for privacy reasons\". Therefore, we firstly found the difference between the implausible ages and 89 and secondly subtracted to each implausible value the obtained difference in the preceeding step. The result is a sensible histogram for age distribution. "
   ]
  },
  {
   "cell_type": "code",
   "execution_count": 180,
   "id": "postal-boating",
   "metadata": {},
   "outputs": [
    {
     "data": {
      "image/png": "[encoded data removed]",
      "text/plain": [
       "<Figure size 432x288 with 1 Axes>"
      ]
     },
     "metadata": {
      "needs_background": "light"
     },
     "output_type": "display_data"
    }
   ],
   "source": [
    "# Filter for ages below 100 and obtain the maximum value to certify its 89\n",
    "below_100 = data_diff[data_diff['Age']<100]\n",
    "below_100.max()\n",
    "\n",
    "# Filter for ages above 100 and obtain the min which should be 300 (histogram)\n",
    "above_100 = data_diff[data_diff['Age']>100]\n",
    "above_100.min()\n",
    "\n",
    "# Subtract to each age above 100 the difference between 300 and 89 \n",
    "data_diff['Age'] = np.where(data_diff['Age'] >100 , data_diff['Age'] - (300-89), data_diff['Age'])\n",
    "\n",
    "# plot histogram with appropiate labels to certify a sensible age distribution was obtained\n",
    "plt.xlabel(\"Age\", fontsize=16)\n",
    "plt.ylabel(\"Frequency\", fontsize=16)\n",
    "plt.hist(data_diff,bins=100,range=[0, 350])\n",
    "plt.show()\n",
    "\n",
    "# Merge the new age column in our training set\n",
    "data2= pd.concat([data1,data_diff],axis=1)"
   ]
  },
  {
   "cell_type": "markdown",
   "id": "colored-galaxy",
   "metadata": {},
   "source": [
    "The analogous procedure was performed in the test set to obtain the corresponding age of each patient. "
   ]
  },
  {
   "cell_type": "code",
   "execution_count": 181,
   "id": "portuguese-nutrition",
   "metadata": {},
   "outputs": [
    {
     "data": {
      "image/png": "[encoded data removed]",
      "text/plain": [
       "<Figure size 432x288 with 1 Axes>"
      ]
     },
     "metadata": {
      "needs_background": "light"
     },
     "output_type": "display_data"
    }
   ],
   "source": [
    "# Select appropiate columns from the test set to find date difference\n",
    "data_age1 = X_testB[['DOB', 'ADMITTIME']]\n",
    "\n",
    "# We convert the relevant columns to standard date time and represent them in a dataframe \n",
    "data_age_dob1= pd.to_datetime(data_age1['DOB'])\n",
    "data_age_adm1= pd.to_datetime(data_age1['ADMITTIME'])\n",
    "data_age_dob1 = pd.DataFrame(data_age_dob1)\n",
    "data_age_adm1 = pd.DataFrame(data_age_adm1)\n",
    "\n",
    "# Extract the year of each of the relevant columns\n",
    "data_age_dob1['Age'] = pd.DatetimeIndex(data_age_dob1.iloc[:,0]).year\n",
    "data_age_adm1['Age'] = pd.DatetimeIndex(data_age_adm1.iloc[:,0]).year\n",
    "\n",
    "# Perform the subtraction to find the age and load it into a dataframe\n",
    "data_diff1 = data_age_adm1['Age']-data_age_dob1['Age']\n",
    "data_diff1=pd.DataFrame(data_diff1)\n",
    "\n",
    "# Represent the Age in a histogram\n",
    "plt.xlabel(\"Age\", fontsize=16)\n",
    "plt.ylabel(\"Frequency\", fontsize=16)\n",
    "plt.hist(data_diff1,bins=100)\n",
    "plt.show()"
   ]
  },
  {
   "cell_type": "markdown",
   "id": "catholic-event",
   "metadata": {},
   "source": [
    "Given the same problem we had with age in the training set arises in the test set, we adopt the same strategy to deal with the inconsistencies. As we witness in the new histogram, the age distribution is now adequately represented. "
   ]
  },
  {
   "cell_type": "code",
   "execution_count": 182,
   "id": "continent-whole",
   "metadata": {},
   "outputs": [
    {
     "data": {
      "image/png": "[encoded data removed]",
      "text/plain": [
       "<Figure size 432x288 with 1 Axes>"
      ]
     },
     "metadata": {
      "needs_background": "light"
     },
     "output_type": "display_data"
    }
   ],
   "source": [
    "# Filter for ages below 100 and obtain the maximum value to certify its 89\n",
    "below_100_ = data_diff1[data_diff1['Age']<100]\n",
    "below_100_.max()\n",
    "\n",
    "# Filter for ages above 100 and obtain the min which should be from histogram 300\n",
    "above_100_ = data_diff1[data_diff1['Age']>100]\n",
    "above_100_.min()\n",
    "\n",
    "# Subtract to each age above 100 the difference between the minimum age above 100 and 89\n",
    "data_diff1['Age'] = np.where(data_diff1['Age'] >100 , data_diff1['Age'] - (300-89), data_diff1['Age'])\n",
    "data_diff1.max()\n",
    "\n",
    "# Plot histogram with appropiate labels to certify a sensible age distribution was obtained\n",
    "plt.xlabel(\"Age\", fontsize=16)\n",
    "plt.ylabel(\"Frequency\", fontsize=16)\n",
    "plt.hist(data_diff1,bins=100,range=[0, 350])\n",
    "plt.show()\n",
    "\n",
    "# Merge the new age column in our test set\n",
    "X_testC= pd.concat([X_testB,data_diff1],axis=1)"
   ]
  },
  {
   "cell_type": "markdown",
   "id": "enhanced-clark",
   "metadata": {},
   "source": [
    "### D) Train-Set Split"
   ]
  },
  {
   "cell_type": "markdown",
   "id": "everyday-leader",
   "metadata": {},
   "source": [
    "Furtermore, we explicitely separate our training set covariates, our training set target variable and our test set covariates. "
   ]
  },
  {
   "cell_type": "code",
   "execution_count": 183,
   "id": "backed-command",
   "metadata": {},
   "outputs": [],
   "source": [
    "# Select explanatory variables from traing data\n",
    "X_train = data2.drop([\"HOSPITAL_EXPIRE_FLAG\"],axis=1)\n",
    "\n",
    "# Select target variable from traing data\n",
    "y_train = data2[[\"HOSPITAL_EXPIRE_FLAG\"]]\n",
    "\n",
    "# Load test set covariates in a data frame\n",
    "X_test = pd.DataFrame(X_testC)"
   ]
  },
  {
   "cell_type": "markdown",
   "id": "historic-transsexual",
   "metadata": {},
   "source": [
    "Because not all of the variables in the training set are present in the test set, we drop those covariates that are not present in both."
   ]
  },
  {
   "cell_type": "code",
   "execution_count": 184,
   "id": "absent-infrastructure",
   "metadata": {},
   "outputs": [],
   "source": [
    "#Drop variables in train set that are not in test set\n",
    "col_not_to_drop = X_test.columns\n",
    "X_train = X_train[col_not_to_drop]"
   ]
  },
  {
   "cell_type": "markdown",
   "id": "modular-ready",
   "metadata": {},
   "source": [
    "A preliminary treatment of missing values involves dropping those columns that have 15% or more missing values as the information cost associated to imputing them may outweight their explicative power. "
   ]
  },
  {
   "cell_type": "code",
   "execution_count": 185,
   "id": "posted-carpet",
   "metadata": {},
   "outputs": [],
   "source": [
    "# Check features that have a'lot of missing values\n",
    "X_train.isna().sum()\n",
    "\n",
    "# Percentage of null in every column\n",
    "null_percentage = X_train.isnull().sum()/X_train.shape[0]*100\n",
    "\n",
    "# Drop columns having more than 15% null\n",
    "col_to_drop = null_percentage[null_percentage>15].keys()\n",
    "X_train1 = X_train.drop(col_to_drop, axis=1)\n",
    "\n",
    "# Update test set with columns dropped in training set\n",
    "X_test1 = X_test.drop(col_to_drop,axis=1)"
   ]
  },
  {
   "cell_type": "markdown",
   "id": "attached-computer",
   "metadata": {},
   "source": [
    "As no columns have more that 15% of missing values, the X training set wasn't affected. Concomitantly, no variables were dropped in the test set."
   ]
  },
  {
   "cell_type": "markdown",
   "id": "advanced-participation",
   "metadata": {},
   "source": [
    "### E) Target encoding & scalarizing"
   ]
  },
  {
   "cell_type": "markdown",
   "id": "desirable-fancy",
   "metadata": {},
   "source": [
    "In the following section we will proceed to target encode the categorical features and scalarize numerical ones. We will work with training set and test set simultaneously. Note the scalarization and target encoding of the test set will be done using only the training set data."
   ]
  },
  {
   "cell_type": "markdown",
   "id": "forty-publicity",
   "metadata": {},
   "source": [
    "We first start by generating the following data frames: X train categorical, X train numerical, X test categorical and X test numerical. "
   ]
  },
  {
   "cell_type": "code",
   "execution_count": 186,
   "id": "experienced-sight",
   "metadata": {},
   "outputs": [],
   "source": [
    "# Distinguish between data types of numerical columns (int,float) and categorical (object) on training set\n",
    "numeric_columns=list(X_train1.select_dtypes(['int64','float64']).columns)\n",
    "categorical_columns=list(X_train1.select_dtypes('object').columns)\n",
    "\n",
    "# Filter separating categorical columns and numerical columns in training set\n",
    "X_train_cat = X_train1.filter(categorical_columns, axis=1)\n",
    "X_train_num = X_train1.filter(numeric_columns, axis=1)\n",
    "\n",
    "# Distinguish between data types of numerical columns (int,float) and categorical (object) on test set\n",
    "numeric_columns=list(X_test1.select_dtypes(['int64','float64']).columns)\n",
    "categorical_columns=list(X_test1.select_dtypes('object').columns)\n",
    "\n",
    "# Filter separating categorical columns and numerical columns in test set\n",
    "X_test_cat = X_test1.filter(categorical_columns, axis=1)\n",
    "X_test_num = X_test1.filter(numeric_columns, axis=1)"
   ]
  },
  {
   "cell_type": "markdown",
   "id": "minimal-checkout",
   "metadata": {},
   "source": [
    "We now proceed to scalarize numerical columns of training set and test set (based on training set metrics)."
   ]
  },
  {
   "cell_type": "code",
   "execution_count": 187,
   "id": "junior-excellence",
   "metadata": {},
   "outputs": [],
   "source": [
    "# Define scaler\n",
    "scaler = preprocessing.StandardScaler()\n",
    "\n",
    "# Fit scaler to training set\n",
    "scaler.fit(X_train_num)\n",
    "\n",
    "# Transform test set and training set using preceeding scalerizer fitted in train set\n",
    "X_train_num1 = scaler.transform(X_train_num)\n",
    "X_test_num1 = scaler.transform(X_test_num)\n",
    "\n",
    "# Convert the scalarized numerical columns of train/test set to data frame\n",
    "X_train_num = pd.DataFrame(X_train_num1,columns=X_train_num.columns)\n",
    "X_test_num = pd.DataFrame(X_test_num1,columns=X_test_num.columns)"
   ]
  },
  {
   "cell_type": "markdown",
   "id": "technological-organic",
   "metadata": {},
   "source": [
    "Now we proceed to target encode categorical variables both in the train set and the test set. "
   ]
  },
  {
   "cell_type": "code",
   "execution_count": 188,
   "id": "handy-ukraine",
   "metadata": {},
   "outputs": [
    {
     "name": "stderr",
     "output_type": "stream",
     "text": [
      "/Library/Frameworks/Python.framework/Versions/3.9/lib/python3.9/site-packages/category_encoders/target_encoder.py:122: FutureWarning: Default parameter min_samples_leaf will change in version 2.6.See https://github.com/scikit-learn-contrib/category_encoders/issues/327\n",
      "  warnings.warn(\"Default parameter min_samples_leaf will change in version 2.6.\"\n",
      "/Library/Frameworks/Python.framework/Versions/3.9/lib/python3.9/site-packages/category_encoders/target_encoder.py:127: FutureWarning: Default parameter smoothing will change in version 2.6.See https://github.com/scikit-learn-contrib/category_encoders/issues/327\n",
      "  warnings.warn(\"Default parameter smoothing will change in version 2.6.\"\n"
     ]
    }
   ],
   "source": [
    "# Define target encoder\n",
    "encoder = TargetEncoder()\n",
    "\n",
    "# Fit and transform training set using target encoding\n",
    "X_train_cat_enc = encoder.fit_transform(X_train_cat,y_train)\n",
    "\n",
    "# Represent encoded categorical variables of training set in a data frame\n",
    "X_train_cat_enc = pd.DataFrame(X_train_cat_enc)\n",
    "\n",
    "# Target encode categorical variables in test set using train set data\n",
    "X_test_cat_enc = encoder.transform(X_test_cat)\n",
    "\n",
    "# Represent encoded categorical variables of test set in a data frame\n",
    "X_test_cat_enc = pd.DataFrame(X_test_cat_enc)"
   ]
  },
  {
   "cell_type": "markdown",
   "id": "appointed-paste",
   "metadata": {},
   "source": [
    "We finally combine back numerical and categorical columns on both training and test set."
   ]
  },
  {
   "cell_type": "code",
   "execution_count": 189,
   "id": "affected-gentleman",
   "metadata": {},
   "outputs": [],
   "source": [
    "# Concatenate scalarized numerical variables and encoded categorical variables in one data fram (train set)\n",
    "X_train2 = pd.concat([X_train_num, X_train_cat_enc], axis=1)\n",
    "\n",
    "# Concatenate scalarized numerical variables and encoded categorical variables in one data fram (test set)\n",
    "X_test2 = pd.concat([X_test_num, X_test_cat_enc], axis=1)"
   ]
  },
  {
   "cell_type": "markdown",
   "id": "integral-grounds",
   "metadata": {},
   "source": [
    "### F) Imputing missing values"
   ]
  },
  {
   "cell_type": "markdown",
   "id": "seventh-tribe",
   "metadata": {},
   "source": [
    "How to impute missing values is one of the most importante tasks in the pre processing of the data. We will use k nearest neighbors through KNNImputer in order to impute missing values of a patient. The strategy is to replace a missing value of a specific feature of a given patient A using the records of the set of patients that resemble the most patient A in other recorded features. In other words, imputing missing values by similarity. \n",
    "The natural question that comes up is how many neighbors or similar patients we should consider to fill our missing values. To determine this we assumed a potential standard Knn model (number of neighbors, weights and algorithm exogenous) and fed it with different possible values of number of neighbors. This procedure will suggest the optimal number of neighbors to use to impute our missing values. Cross validation is used to asses predictive capacity of the model for the different possible neighbors and criteria of optimality is provided by area under the curve (AUC) performance metric. \n",
    "The following pipeline serves this purpose:"
   ]
  },
  {
   "cell_type": "code",
   "execution_count": null,
   "id": "closing-generator",
   "metadata": {},
   "outputs": [
    {
     "name": "stderr",
     "output_type": "stream",
     "text": [
      "[Parallel(n_jobs=-1)]: Using backend LokyBackend with 4 concurrent workers.\n",
      "[Parallel(n_jobs=-1)]: Done   2 out of   4 | elapsed:   37.9s remaining:   37.9s\n",
      "[Parallel(n_jobs=-1)]: Done   4 out of   4 | elapsed:   38.3s finished\n",
      "[Parallel(n_jobs=-1)]: Using backend LokyBackend with 4 concurrent workers.\n"
     ]
    },
    {
     "name": "stdout",
     "output_type": "stream",
     "text": [
      ">6 0.932 (0.003)\n"
     ]
    },
    {
     "name": "stderr",
     "output_type": "stream",
     "text": [
      "[Parallel(n_jobs=-1)]: Done   2 out of   4 | elapsed:   33.6s remaining:   33.6s\n",
      "[Parallel(n_jobs=-1)]: Done   4 out of   4 | elapsed:   35.1s finished\n",
      "[Parallel(n_jobs=-1)]: Using backend LokyBackend with 4 concurrent workers.\n"
     ]
    },
    {
     "name": "stdout",
     "output_type": "stream",
     "text": [
      ">10 0.931 (0.003)\n"
     ]
    },
    {
     "name": "stderr",
     "output_type": "stream",
     "text": [
      "[Parallel(n_jobs=-1)]: Done   2 out of   4 | elapsed:   49.7s remaining:   49.7s\n",
      "[Parallel(n_jobs=-1)]: Done   4 out of   4 | elapsed:   51.4s finished\n",
      "[Parallel(n_jobs=-1)]: Using backend LokyBackend with 4 concurrent workers.\n"
     ]
    },
    {
     "name": "stdout",
     "output_type": "stream",
     "text": [
      ">20 0.930 (0.004)\n"
     ]
    }
   ],
   "source": [
    "# Create an empty list to store results\n",
    "results = list()\n",
    "\n",
    "# Choose the potential nearest neighbor values \n",
    "strategies = [str(i) for i in [6,10,20,35,50]]\n",
    "for s in strategies:\n",
    "    # Create the modeling pipeline using standard Knn model \n",
    "    pipeline = Pipeline(steps=[('i', KNNImputer(n_neighbors=int(s))), ('m',\n",
    "               KNeighborsClassifier(weights='distance',algorithm='auto',metric='manhattan',n_neighbors=300))])\n",
    "    # Evaluate the model's predictive capacity thprugh cross validation using roc_auc criteria\n",
    "    cv = RepeatedStratifiedKFold(n_splits=2, n_repeats=2, random_state=1)\n",
    "    scores = cross_val_score(pipeline, X_train2, y_train, scoring='roc_auc', cv=cv, n_jobs=-1,verbose=True)\n",
    "    # Store results\n",
    "    results.append(scores)\n",
    "    print('>%s %.3f (%.3f)' % (s, np.mean(scores), np.std(scores)))\n",
    "\n",
    "# Plot box plot \n",
    "plt.boxplot(results, labels=strategies, showmeans=True)\n",
    "plt.show()"
   ]
  },
  {
   "cell_type": "markdown",
   "id": "infectious-combining",
   "metadata": {},
   "source": [
    "Note the boxplot represents the accurracy for the different proposed number of neighbors. 6 neighbors is the optimal number of neighbors to include in our knn imputer. Now we can proceed to replace the missing values via KNNImputer in both our training set and test set. "
   ]
  },
  {
   "cell_type": "code",
   "execution_count": null,
   "id": "facial-privilege",
   "metadata": {},
   "outputs": [],
   "source": [
    "# Define the Knn imputer with the number of neighbors to use\n",
    "imputer = KNNImputer(n_neighbors=6)\n",
    "\n",
    "# Fit and transform the training data using imputer\n",
    "X_train3 = imputer.fit_transform(X_train2)\n",
    "\n",
    "# Represent the imputed training data in a data frame\n",
    "X_train3 = pd.DataFrame(X_train3,columns=X_train2.columns)\n",
    "\n",
    "# Verify missing values were imputed appopiately\n",
    "X_train3.isna().sum()"
   ]
  },
  {
   "cell_type": "code",
   "execution_count": null,
   "id": "copyrighted-healing",
   "metadata": {},
   "outputs": [],
   "source": [
    "# Define the Knn imputer with the number of neighbors to use\n",
    "imputer = KNNImputer(n_neighbors=6)\n",
    "\n",
    "# Fit test data using imputer\n",
    "imputer.fit(X_train2)\n",
    "\n",
    "# Transform the testdata using imputer\n",
    "X_test3 = imputer.transform(X_test2)\n",
    "\n",
    "# Represent the imputed test data in a data frame\n",
    "X_test3 = pd.DataFrame(X_test3,columns=X_test2.columns)\n",
    "\n",
    "# Verify missing values were imputed appopiately\n",
    "X_test3.isna().sum()"
   ]
  },
  {
   "cell_type": "markdown",
   "id": "consistent-spectrum",
   "metadata": {},
   "source": [
    "### G) Variable Selection"
   ]
  },
  {
   "cell_type": "markdown",
   "id": "generous-visiting",
   "metadata": {},
   "source": [
    "The posterior step in our analysis is to select those variables that we anticipate have some incidence on the patients probability of survival and dropping the rest. Recall that adding variables that have no explanatory power whatsover generates noise that erodes the capacity of our model to capture the underlying pattern in the data.\n"
   ]
  },
  {
   "cell_type": "markdown",
   "id": "cubic-emperor",
   "metadata": {},
   "source": [
    "We first find the correlation betweeen each feature and our target future to explore which variables might be relevant and undergo a process of variable selection. "
   ]
  },
  {
   "cell_type": "code",
   "execution_count": null,
   "id": "developing-cruise",
   "metadata": {},
   "outputs": [],
   "source": [
    "# Concatenate X train set with y train set to investigate correlations\n",
    "data3 = pd.concat([X_train3,y_train],axis=1)\n",
    "\n",
    "# Compute the correlation matrix\n",
    "corr = data3.corr()\n",
    "\n",
    "# Represent it in a data frame and select column involving target variable\n",
    "corr = pd.DataFrame(corr[['HOSPITAL_EXPIRE_FLAG']])\n",
    "corr"
   ]
  },
  {
   "cell_type": "markdown",
   "id": "double-palace",
   "metadata": {},
   "source": [
    "Naturally, those columns that serve the purpose of identifying the patient (subject_id & hadm_id) will have no impact whatsoever in our target variable. We also drop date of birth (DOB) and admission time (ADMITTIME) that were already used to estimate the age and by themselves add no explanatory power. "
   ]
  },
  {
   "cell_type": "markdown",
   "id": "located-zealand",
   "metadata": {},
   "source": [
    "Additional features such as religion,gender and marital status and are candidates to be discarded as we suspect they are neutral with respect to the survival probability (some trials were performed with inclusion of theses variables and performance did not improve). Moreover, the particularly low correlation presents aditional evidence to support model exclusion. \n",
    "Furthermore, the mean of each of the medical categories (heart rate, sys, dias, etc) measured were dropped: not only they are composed of variables already present in the data (max and min) that precisely capture the presence of lower or upper deviations, but we conjecture that it is the presence of extreme values in a given category what impacts our target variable. In other words, the mean value of each medical category adds no relevant information. This is certified by our correlation column given the correlation of the mean value of a medical category is always below the correlation with either the minimum value or the maximimum value.  "
   ]
  },
  {
   "cell_type": "code",
   "execution_count": null,
   "id": "quantitative-schedule",
   "metadata": {},
   "outputs": [],
   "source": [
    "# Features from training set\n",
    "X_train3.columns\n",
    "\n",
    "# Drop suspected irrelevant columns\n",
    "X_train4= X_train3.drop(['subject_id','hadm_id','icustay_id','DOB','ADMITTIME','RELIGION','Diff','HeartRate_Mean',\n",
    "                         'SysBP_Mean','DiasBP_Mean','MeanBP_Mean','RespRate_Mean','TempC_Mean','SpO2_Mean',\n",
    "                          'Glucose_Mean','GENDER','MARITAL_STATUS'],axis=1)\n",
    "X_train4.columns"
   ]
  },
  {
   "cell_type": "markdown",
   "id": "gorgeous-insight",
   "metadata": {},
   "source": [
    "The variables kept we speculate most likely affect our target variable. Those include the minimum and maximum values of each medical category such as heart rate, Sys, Dias, MeanBP, respiratory rate and temperature. Otherfeatures such as admission type, medical insurance, diagnosis, taget encoded ICD9_CODE, the first careunit. the number of co-morbilities and the age most likely play a role in explaining the probability of survival. Ethnicity was included because after some trials the explanatory power marginally increased. "
   ]
  },
  {
   "cell_type": "markdown",
   "id": "suffering-failure",
   "metadata": {},
   "source": [
    "The concomitant exclusion was performed in the X test set. "
   ]
  },
  {
   "cell_type": "code",
   "execution_count": null,
   "id": "moral-auditor",
   "metadata": {},
   "outputs": [],
   "source": [
    "# Save icustay_id before dropping to merge identify patients once predictions are made\n",
    "icustay_id=X_test3[\"icustay_id\"]\n",
    "\n",
    "# Drop irrelevant columns in the X test set\n",
    "X_test4 = X_test3.drop(['subject_id','hadm_id','icustay_id','DOB','ADMITTIME','RELIGION','Diff','HeartRate_Mean',\n",
    "                         'SysBP_Mean','DiasBP_Mean','MeanBP_Mean','RespRate_Mean','TempC_Mean','SpO2_Mean',\n",
    "                          'Glucose_Mean','GENDER','MARITAL_STATUS'],axis=1)"
   ]
  },
  {
   "cell_type": "markdown",
   "id": "coordinated-conspiracy",
   "metadata": {},
   "source": [
    "## <ins>Part 3: Knn Model</ins>"
   ]
  },
  {
   "cell_type": "markdown",
   "id": "horizontal-savings",
   "metadata": {},
   "source": [
    "The K Nearest Neighbors model is a supervised leraning classifier which uses proximity -computed by a measure of distance- to classify or predict a given data point. In a classification task, a given observation is labeled considering the relative proximity of the k nearest data point, where k is a hyperparameter to be tuned. "
   ]
  },
  {
   "cell_type": "markdown",
   "id": "architectural-edward",
   "metadata": {},
   "source": [
    " The hyperparameters are exogenous parameters that are not determined within the model. Even though we will undergo a tuning process to select most of them, we will already fix two of the hyperparameter when instatiating the model. "
   ]
  },
  {
   "cell_type": "markdown",
   "id": "southern-infrared",
   "metadata": {},
   "source": [
    "First of all we instatiate our KNN model."
   ]
  },
  {
   "cell_type": "code",
   "execution_count": null,
   "id": "potential-scheme",
   "metadata": {},
   "outputs": [],
   "source": [
    "#Instatiate KNN\n",
    "MyKNN = KNeighborsClassifier(weights='distance',metric='minkowski')"
   ]
  },
  {
   "cell_type": "markdown",
   "id": "defined-initial",
   "metadata": {},
   "source": [
    "The \"weights\" argument refers to the criteria used to assign a relative weight to the neighboring data points used to classify a particular observation. We prefer to use a distance metric over uniformly weighting all surrounding data points given we know from scratch that we want closer data points to have more weight than those that are further apart. Moreover, we will define the metric to measure distances to the minkowski one, given both the euclidean distance (p=2) and the manhattan distance (p=1) are particular cases of the minkowski distance (the cosine distance is another distance metric that could also be considered). "
   ]
  },
  {
   "cell_type": "markdown",
   "id": "nasty-alabama",
   "metadata": {},
   "source": [
    "A grid search is a tuning technique used to determine the optimal values of hyperparameters. Optimality is evaluated by a given performance metric. In essence, we train models with different combinations of hyperparameters to discover which performs the best given a performance metric.\n",
    "Moreover, we define our model, the parameter grid, performance criteria, number of cross validations folds and finally fit the model to the training set. "
   ]
  },
  {
   "cell_type": "code",
   "execution_count": null,
   "id": "hungarian-commission",
   "metadata": {},
   "outputs": [],
   "source": [
    "#Grid Values/search\n",
    "#grid_values = {'n_neighbors':[10,30,50,100,150,200,350,368,400,500,700,1000,2000],'p':[1,1.5,2,2.5,3],\n",
    "#               'algorithm':['auto', 'ball_tree', 'kd_tree', 'brute']}\n",
    "\n",
    "\n",
    "#Define model,paramteter grid, number cross validations folds andscoring criteria KNN\n",
    "#grid_knn_acc = GridSearchCV(MyKNN, param_grid = grid_values, scoring = 'roc_auc', cv=20,n_jobs=-1,verbose=3)\n",
    "\n",
    "#Fit KNN on training data\n",
    "#grid_knn_acc.fit(X_train4, y_train)"
   ]
  },
  {
   "cell_type": "markdown",
   "id": "statistical-luther",
   "metadata": {},
   "source": [
    "The essential hyperparameter is the number of near neighbors (k) we should consider to establish proximity, or in other words, how many neighbors will be checked to determine the classification of a given data point. Several values of k were tested ranging from 10 to 2000.\n",
    "\n",
    "Another hyperparamter to consider is the metric distance used to measure proximity between observations: in this case, when p=1 the minkowski distance is equals the manhattan distance and when p=2 it equals the euclidean distance. These are te most known distance measures but intermediates and more extreme values of p are also possible. Usually manhattan distance is preferred over the euclidean distance in high dimnesionality settings. \n",
    "\n",
    "The algorithm hyperparameter defines the algorithm used to compute the nearest neighbors. Auto will attempt to decide the most appropriate algorithm based on the values. kd_tree partitions the feature space in cubes and instead of calculating the distance of a new observation with every training point it only calculates the distance from the node. Ball tree does something similar but partitions the sample space in balls. Brute force simply calculates the distance from each query feature vector to each reference feature vector in the training data set.\n",
    "\n",
    "Cross validation is a re-sampling technique that partitions the data in k folds, uses k-1 folds to train the model and the remaining k fold to test its performance. It repeats the process for each of the k folds. We use cross validation as an artifitial simulation to judge how our different models will generalize or perform when faced with new unseen data."
   ]
  },
  {
   "cell_type": "markdown",
   "id": "hourly-wrong",
   "metadata": {},
   "source": [
    "Finally, we select the model that attained the highest accurracy given by the roc curve and the are under the curve. The ROC curve is a probability curve that plots the true positive rate vs the false positive rate. It represents the predictive ability of a binary classifier for all possible probability thresholds. \n",
    "The area under the ROC curve (AUC) is a measure of how much a model can distinguish between different classes when using different probability thresholds. The higher the AUC the better. We choose this criteria to evaluate our model performance.  "
   ]
  },
  {
   "cell_type": "markdown",
   "id": "acute-oxford",
   "metadata": {},
   "source": [
    "We construct a table to observe the mean accurracy and standard deviation of all possible model combinations."
   ]
  },
  {
   "cell_type": "code",
   "execution_count": null,
   "id": "consistent-slope",
   "metadata": {},
   "outputs": [],
   "source": [
    "# Table obtaining mean and std of all possible models\n",
    "#res = pd.DataFrame(grid_knn_acc.cv_results_)\n",
    "#res"
   ]
  },
  {
   "cell_type": "markdown",
   "id": "olympic-teens",
   "metadata": {},
   "source": [
    "The following output allows to acknowledge the definitive best performing model and its accurracy score."
   ]
  },
  {
   "cell_type": "code",
   "execution_count": null,
   "id": "manufactured-arrangement",
   "metadata": {},
   "outputs": [],
   "source": [
    "# Display best score and paramter combination attained by best model\n",
    "#grid_knn_acc.best_score_\n",
    "#grid_knn_acc.best_estimator_"
   ]
  },
  {
   "cell_type": "markdown",
   "id": "civic-bailey",
   "metadata": {},
   "source": [
    "We then train our final model using the best estimator."
   ]
  },
  {
   "cell_type": "code",
   "execution_count": null,
   "id": "interracial-schema",
   "metadata": {},
   "outputs": [],
   "source": [
    "# Final model with tuned hyperparameters\n",
    "my_best_KNN_model = KNeighborsClassifier(n_neighbors=368, weights='distance',metric='manhattan')\n",
    "# Fit final model\n",
    "my_best_KNN_model.fit(X_train4, y_train)"
   ]
  },
  {
   "cell_type": "markdown",
   "id": "legitimate-thriller",
   "metadata": {},
   "source": [
    "Furthermore, we predict probability of each test set observation with the best model fitted in the training set. (Note that knn has to estimate the probability of a given observation by making an \"forced\" logitic transformation). \n",
    "We then represent our predictions in a dataframe along icustay_id to identify the patient. "
   ]
  },
  {
   "cell_type": "code",
   "execution_count": null,
   "id": "reflected-chapel",
   "metadata": {},
   "outputs": [],
   "source": [
    "#Predict Probability for each patient on test set\n",
    "y_pred_prob_knn = my_best_KNN_model.predict_proba(X_test4)\n",
    "\n",
    "# Represent it in a data frame\n",
    "y_pred_prob_knn = pd.DataFrame(y_pred_prob_knn)\n",
    "\n",
    "# Choose column on probability of dying\n",
    "y_pred_prob_knn_k = y_pred_prob_knn.iloc[:,1]\n",
    "\n",
    "# Final data frame with icustay_id identifying patient and corresponding prediction\n",
    "test_predictions_submit_knn = pd.DataFrame({\"icustay_id\": icustay_id, \"Hospital_Expire_Flag\": y_pred_prob_knn_k})\n",
    "\n",
    "# Covert predictions to csv and save\n",
    "# test_predictions_submit_knn.to_csv(\"predictionKNN.csv\",index=False)"
   ]
  },
  {
   "cell_type": "markdown",
   "id": "accredited-handle",
   "metadata": {},
   "source": [
    "Finally, we can now compare our predicted probabilities for the test set patients with the real \"unseen\" outcome of each patient (death or survival)."
   ]
  },
  {
   "cell_type": "markdown",
   "id": "multiple-kinase",
   "metadata": {},
   "source": [
    "## <ins>Part 3: SVM Model</ins>"
   ]
  },
  {
   "cell_type": "markdown",
   "id": "executive-humanity",
   "metadata": {},
   "source": [
    "Support Vector Machines for classification is a supervised learning algorithm that attempts to construct hyperplane in a N dimensional space to separate the data points into different classes. The objective of SVM (classification task) is to find a plane that has the maximum distance between classification points of different classes (Margin). A bigger margin implies more model robustness: a higher confidence in classifying future data points. "
   ]
  },
  {
   "cell_type": "markdown",
   "id": "dominant-terrain",
   "metadata": {},
   "source": [
    "Before instatiating our model we witness that the number of observations of one of the classes in our target variable is much smaller that the other. Therefore we need account for what is known as class imbalance. "
   ]
  },
  {
   "cell_type": "code",
   "execution_count": null,
   "id": "united-theta",
   "metadata": {},
   "outputs": [],
   "source": [
    "y_train.value_counts()"
   ]
  },
  {
   "cell_type": "markdown",
   "id": "unavailable-citizenship",
   "metadata": {},
   "source": [
    "We instatiate our SVM model:"
   ]
  },
  {
   "cell_type": "code",
   "execution_count": null,
   "id": "annual-means",
   "metadata": {},
   "outputs": [],
   "source": [
    "# Instatiate SVM model\n",
    "MySvc = SVC(class_weight='balanced',probability=True)"
   ]
  },
  {
   "cell_type": "markdown",
   "id": "silver-carol",
   "metadata": {},
   "source": [
    "Note that class weight is set to balanced to compensate for the minority class in our target variable. Essentially, SVM deals with class imbalance by assigning higher misclassification penalties to training instances of the minority class."
   ]
  },
  {
   "cell_type": "markdown",
   "id": "bacterial-definition",
   "metadata": {},
   "source": [
    "We now set grid serach values to train models with different combinations of hyperparameters to discover which performs the best given a performance metric. Moreover, we define our model, the parameter grid, performance criteria, number of cross validations folds and finally fit the model to the training set. "
   ]
  },
  {
   "cell_type": "code",
   "execution_count": null,
   "id": "fabulous-orleans",
   "metadata": {},
   "outputs": [],
   "source": [
    "# Set grid values\n",
    "#grid_values = {'C': [0.5,1,2,5,10],'gamma':[0.05,0.1,0.5,1],'kernel':['linear', 'poly', 'rbf', 'sigmoid']}\n",
    "\n",
    "#Define model,paramteter grid,number cross validations folds and scoring criteria SVM\n",
    "#grid_svc_acc = GridSearchCV(MySvc, param_grid = grid_values,scoring = 'roc_auc', cv=20,verbose=3,n_jobs=-1)\n",
    "\n",
    "#Fit SVM on training data\n",
    "#grid_svc_acc.fit(X_train4, y_train)"
   ]
  },
  {
   "cell_type": "markdown",
   "id": "understood-sentence",
   "metadata": {},
   "source": [
    "The hyperparameter C (in sklearn 1/C) is a regularization or cost paramter that represents how much we want to avoid misclassifying each training example. A small C implies a wider margin at the cost of misclassifications. On the other hand, a large C results in a small margin with less misclassifcations. Basically, C governs the tradeoff between the size of the margin or model robustness and having misclassification errors.\n",
    "\n",
    "Non linearly separable data can be turn out to be linearly separable when projected into a higher dimensional space. The virtue of SVM is that we can compute the distance in the high dimensional space without going there. In other words, the distances in high dimensional space can be written as a function of the low dimensional space. The kernel function computes the inner product -a measure of distance- in the transformed space. Our grid search involves four possible kernels: linear, polynomial, radial basis function and sigmoid. \n",
    "\n",
    "The gamma hyperparameter is kernel coefficent for ‘rbf’ and ‘poly’. In the polynomial kernel gamma is a coefficient that multiplies $x_i.x_j$. In the rbf kernel gamma it multiplies $||x_i - x_j||$. Intuitevely, gamma is a measure of how far the influence of asingle data point reaches. For a small gamma, the model behaves almost as a linear SVM without kernel and a large gamma implies it is heavily impacted by support vectors (may result in overfitting). "
   ]
  },
  {
   "cell_type": "markdown",
   "id": "resistant-antique",
   "metadata": {},
   "source": [
    "Finally, we select the model that attained the highest accurracy given by the roc curve and the are under the curve."
   ]
  },
  {
   "cell_type": "code",
   "execution_count": null,
   "id": "celtic-format",
   "metadata": {},
   "outputs": [],
   "source": [
    "# Display mean accurracy and std of all the possible set of models\n",
    "#res1 = pd.DataFrame(grid_svc_acc.cv_results_)\n",
    "#res1\n",
    "# Report best tuning parameters and score\n",
    "#grid_svc_acc.best_score_\n",
    "#grid_svc_acc.best_estimator_"
   ]
  },
  {
   "cell_type": "markdown",
   "id": "earlier-publicity",
   "metadata": {},
   "source": [
    "We obtain table representing mean accurracy and std of all the possible set of models. After evaluating the preceding output we are able to choose the best model based on our performance metric. We train final model using the best estimator."
   ]
  },
  {
   "cell_type": "code",
   "execution_count": null,
   "id": "dirty-brand",
   "metadata": {},
   "outputs": [],
   "source": [
    "# Final model with tuned hyperparameters\n",
    "my_best_SVM_model = SVC(class_weight='balanced',C=0.7, gamma=0.05, kernel='linear', probability=True)\n",
    "my_best_SVM_model.fit(X_train4, y_train)"
   ]
  },
  {
   "cell_type": "markdown",
   "id": "motivated-sequence",
   "metadata": {},
   "source": [
    "Furthermore, we predict probability of each test set observation with the best model fitted in the training set. We then represent our predictions in a dataframe along icustay_id to identify the patient. "
   ]
  },
  {
   "cell_type": "code",
   "execution_count": null,
   "id": "postal-vancouver",
   "metadata": {},
   "outputs": [],
   "source": [
    "#Predict Probability for each class\n",
    "y_pred_prob_bm = my_best_SVM_model.predict_proba(X_test4)\n",
    "y_pred_prob_bm = pd.DataFrame(y_pred_prob_bm)\n",
    "\n",
    "# Choose column on probability predictions\n",
    "y_pred_prob_bm_k = y_pred_prob_bm.iloc[:,1]\n",
    "\n",
    "# Final data frame with icustay_id identifying patient and corresponding prediction\n",
    "test_predictions_submit_SVM = pd.DataFrame({\"icustay_id\": icustay_id ,\"Hospital_Expire_Flag\": y_pred_prob_bm_k})\n",
    "\n",
    "#Convert to CSV\n",
    "#test_predictions_submit_SVM.to_csv(\"predictionSVM.csv\",index=False)"
   ]
  },
  {
   "cell_type": "markdown",
   "id": "civil-borough",
   "metadata": {},
   "source": [
    "Finally, we can now compare our predicted probabilities for the test set patients with the real \"unseen\" outcome of each patient (death or survival)."
   ]
  },
  {
   "cell_type": "markdown",
   "id": "optional-swedish",
   "metadata": {},
   "source": [
    "## <ins>Extension</ins>"
   ]
  },
  {
   "cell_type": "markdown",
   "id": "sticky-biology",
   "metadata": {},
   "source": [
    "One hot encoding was also attempted but was discarded as a reasonable encoding alternative because the resultant model increased dramatically the number of dimensions. Recall the curse of dimensionality reads that as the volume of the space increases, the avaialble data could become sparse. "
   ]
  },
  {
   "cell_type": "code",
   "execution_count": null,
   "id": "enhanced-philadelphia",
   "metadata": {},
   "outputs": [],
   "source": [
    "# # A.3) X_train_cat and X_test_cat\n",
    "# X_train_cat=X_train_cat.drop([\"ICD9_diagnosis\"], axis=1)\n",
    "# X_test_cat=X_test_cat.drop([\"ICD9_diagnosis\"], axis=1)\n",
    "# \n",
    "# X_train_test=pd.concat([X_train_cat,X_test_cat],axis=0)\n",
    "# \n",
    "# # Define function to perform one hot encoding\n",
    "# def getfullitemsforOHE(X_train_test_combined,categorical_columns,sort=False):\n",
    "#     def sortornot(X):\n",
    "#         if sort==False:\n",
    "#             return X\n",
    "#         else:\n",
    "#             return sorted(X)\n",
    "#     fulllist=[]\n",
    "#     for feat in categorical_columns:\n",
    "#         fulllist.append(sortornot(X_train_test_combined[feat].unique()))\n",
    "#     return fulllist\n",
    "# \n",
    "# \n",
    "# categorical_columns = X_train_test.columns.tolist()\n",
    "# cats=getfullitemsforOHE(X_train_test,categorical_columns)\n",
    "# \n",
    "# ohe=OneHotEncoder(categories=cats, sparse=False,handle_unknown=\"ignore\")\n",
    "# \n",
    "# # A.4) Train set one hot encoding\n",
    "# \n",
    "# X_train_cat_transformed=ohe.fit_transform(X_train_cat[categorical_columns])\n",
    "# X_train_cat_transformed=pd.DataFrame(X_train_cat_transformed,columns=ohe.get_feature_names(categorical_columns))\n",
    "# \n",
    "# # A.5) Test set ine hot encoding\n",
    "# \n",
    "# X_test_cat_transformed=ohe.transform(X_test_cat[categorical_columns])\n",
    "# X_test_cat_transformed=pd.DataFrame(X_test_cat_transformed,columns=ohe.get_feature_names(categorical_columns))\n"
   ]
  }
 ],
 "metadata": {
  "kernelspec": {
   "display_name": "Python 3",
   "language": "python",
   "name": "python3"
  },
  "language_info": {
   "codemirror_mode": {
    "name": "ipython",
    "version": 3
   },
   "file_extension": ".py",
   "mimetype": "text/x-python",
   "name": "python",
   "nbconvert_exporter": "python",
   "pygments_lexer": "ipython3",
   "version": "3.9.2"
  }
 },
 "nbformat": 4,
 "nbformat_minor": 5
}
